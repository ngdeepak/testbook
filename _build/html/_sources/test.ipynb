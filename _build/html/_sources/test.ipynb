{
 "cells": [
  {
   "cell_type": "markdown",
   "metadata": {},
   "source": [
    "# The Great Red Spot\n",
    "\n",
    "Jupiter’s iconic Great Red Spot (GRS) is actually an enormous storm that is bigger than Earth that has raged for hundreds of years! {numref}`great-red-spot` below shows an image of Jupiter captured by the Hubble Space Telescope on June 27, 2019.\n",
    "\n",
    "```{figure} https://solarsystem.nasa.gov/system/resources/detail_files/626_PIA21775.jpg\n",
    "---\n",
    "height: 300px\n",
    "name: great-red-spot\n",
    "---\n",
    "Jupiter's Great Red Spot! Source: [NASA](https://solarsystem.nasa.gov/resources/626/jupiters-great-red-spot-in-true-color/?category=planets_jupiter).\n",
    "```\n",
    "\n",
    "Jupiter's GRS has been observed to be shrinking for about the last century and a half! [Here](https://github.com/UBC-DSCI/jupyterdays/tree/master/jupyterdays/sessions/beuzen/data) is some data of the length of the GRS spanning the last ~150 years which we can use to investigate this phenomenon."
   ]
  },
  {
   "cell_type": "code",
   "execution_count": null,
   "metadata": {},
   "outputs": [],
   "source": [
    "import pandas as pd\n",
    "pd.options.plotting.backend = \"plotly\"\n",
    "\n",
    "url = \"https://raw.githubusercontent.com/UBC-DSCI/jupyterdays/master/jupyterdays/sessions/beuzen/data/GRS_data.csv\"\n",
    "df = pd.read_csv(url)\n",
    "df['Year'] = df['Year'].astype(int) \n",
    "df.head()"
   ]
  },
  {
   "cell_type": "code",
   "execution_count": null,
   "metadata": {
    "tags": [
     "hide-input"
    ]
   },
   "outputs": [],
   "source": [
    "import plotly.io as pio\n",
    "pio.renderers.default = \"notebook\"\n",
    "fig = df.plot.scatter(x=\"Year\", y=\"GRS Length\", color=\"Recorder\",\n",
    "                      range_x=[1870, 2030], range_y=[10, 40],\n",
    "                      width=650, height=400)\n",
    "fig.update_layout(title={'text': \"Great Red Spot Size\", 'x':0.5, 'y':0.92})\n",
    "fig.update_traces(marker=dict(size=7))"
   ]
  },
  {
   "cell_type": "markdown",
   "metadata": {
    "tags": [
     "hide-input"
    ]
   },
   "source": [
    "fig = df.plot.scatter(x=\"Year\", y=\"GRS Length\",\n",
    "                      animation_frame=\"Year\",\n",
    "                      range_x=[1870, 2030], range_y=[10, 40],\n",
    "                      width=600, height=520)\n",
    "fig.update_layout(title={'text': \"Great Red Spot Size Animation\", 'x':0.5, 'y':0.94})\n",
    "fig.layout.updatemenus[0].buttons[0].args[1][\"frame\"][\"duration\"] = 200\n",
    "fig.update_traces(marker=dict(size=10))"
   ]
  }
 ],
 "metadata": {
  "kernelspec": {
   "display_name": "Python 3",
   "language": "python",
   "name": "python3"
  },
  "language_info": {
   "codemirror_mode": {
    "name": "ipython",
    "version": 3
   },
   "file_extension": ".py",
   "mimetype": "text/x-python",
   "name": "python",
   "nbconvert_exporter": "python",
   "pygments_lexer": "ipython3",
   "version": "3.8.5"
  },
  "widgets": {
   "application/vnd.jupyter.widget-state+json": {
    "state": {},
    "version_major": 2,
    "version_minor": 0
   }
  }
 },
 "nbformat": 4,
 "nbformat_minor": 4
}
