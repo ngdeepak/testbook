{
 "cells": [
  {
   "cell_type": "markdown",
   "id": "naval-extraction",
   "metadata": {},
   "source": [
    "```{figure} ../images/banner.png\n",
    "---\n",
    "align: center\n",
    "name: banner\n",
    "---\n",
    "```"
   ]
  },
  {
   "cell_type": "markdown",
   "id": "acute-aspect",
   "metadata": {},
   "source": [
    "<style>body {text-align: justify}</style>"
   ]
  },
  {
   "cell_type": "markdown",
   "id": "valuable-acceptance",
   "metadata": {},
   "source": [
    "# Chapter 3 : Data Sources"
   ]
  },
  {
   "cell_type": "markdown",
   "id": "defensive-insulation",
   "metadata": {},
   "source": [
    "## Chapter Learning Objectives"
   ]
  },
  {
   "cell_type": "markdown",
   "id": "catholic-triple",
   "metadata": {},
   "source": [
    "- Various data sources & file formats.\n",
    "- General methods to read the data into spark dataframe. \n",
    "- General methods to write the spark dataframe into an external data source/file. "
   ]
  },
  {
   "cell_type": "markdown",
   "id": "appreciated-springer",
   "metadata": {},
   "source": [
    "## Chapter Outline\n",
    "\n",
    "- [1. Various data sources](#1)\n",
    "    - [1a. Text file](#2)\n",
    "    - [1b. CSV file](#3)\n",
    "    - [1c. JSON file](#4)\n",
    "    - [1d. Parquet file](#5)\n",
    "    - [1e. ORC file](#6)\n",
    "    - [1f. AVRO file](#7)\n",
    "    - [1g. Whole Binary file](#8)\n",
    "- [2. Reading & Writing data from various data sources](#9)\n",
    "    - [2a. from text file](#10)\n",
    "    - [2b. from CSV file](#11)\n",
    "    - [2c. from JSON file](#12)\n",
    "    - [2d. from Parquet file](#13)\n",
    "    - [2e. from ORC file](#14)\n",
    "    - [2f. from AVRO file](#15)\n",
    "    - [2g. from whole Binary file](#16)\n"
   ]
  },
  {
   "cell_type": "markdown",
   "id": "collective-conjunction",
   "metadata": {},
   "source": [
    "## Visual Outline"
   ]
  },
  {
   "cell_type": "markdown",
   "id": "adjacent-ethiopia",
   "metadata": {},
   "source": [
    "\n",
    "```{figure} img/chapter3/datasources.png\n",
    "---\n",
    "align: center\n",
    "---\n",
    "```"
   ]
  },
  {
   "cell_type": "markdown",
   "id": "afraid-specification",
   "metadata": {},
   "source": [
    "click on  | any image\n",
    "---: |:--- \n",
    "[![alt](img/chapter3/1a.png)](#2)| [![alt](img/chapter3/1b.png)](#3)\n",
    "[![alt](img/chapter3/1c.png)](#4) | [![alt](img/chapter3/1d.png)](#5)\n",
    "[![alt](img/chapter3/1e.png)](#6) | [![alt](img/chapter3/1f.png)](#7)\n",
    "[![alt](img/chapter3/1g.png)](#8) | \n"
   ]
  },
  {
   "cell_type": "markdown",
   "id": "auburn-diagnosis",
   "metadata": {},
   "source": [
    "<a id='1'></a>"
   ]
  },
  {
   "cell_type": "markdown",
   "id": "alone-edwards",
   "metadata": {},
   "source": [
    "## 1. Various data sources\n",
    "\n",
    "As a general computing engine, Spark can process data from various data management/storage systems, including HDFS, Hive, Cassandra and Kafka. For flexibility and high throughput, Spark defines the Data Source API, which is an abstraction of the storage layer. The Data Source API has two requirements.\n",
    "\n",
    "1) Generality: support reading/writing most data management/storage systems.\n",
    "\n",
    "2) Flexibility: customize and optimize the read and write paths for different systems based on their capabilities. \n",
    "\n",
    "\n",
    "```{figure} img/chapter3/datasources.png\n",
    "---\n",
    "align: center\n",
    "---\n",
    "```"
   ]
  },
  {
   "cell_type": "markdown",
   "id": "described-fraction",
   "metadata": {},
   "source": [
    "<a id='2'></a>"
   ]
  },
  {
   "cell_type": "markdown",
   "id": "intense-speaker",
   "metadata": {},
   "source": [
    "### 1a. Text file"
   ]
  },
  {
   "cell_type": "markdown",
   "id": "express-occasions",
   "metadata": {},
   "source": [
    "A text file is a kind of computer file that is structured as a sequence of lines of electronic text.\n",
    "Because of their simplicity, text files are commonly used for storage of information. They avoid some of the problems encountered with other file formats, such as  padding bytes, or differences in the number of bytes in a machine word. Further, when data corruption occurs in a text file, it is often easier to recover and continue processing the remaining contents. \n",
    "A disadvantage of text files is that they usually have a low entropy, meaning that the information occupies more storage than is strictly necessary.\n",
    "\n",
    "A simple text file may need no additional metadata (other than knowledge of its character set) to assist the reader in interpretation. "
   ]
  },
  {
   "cell_type": "markdown",
   "id": "mechanical-kidney",
   "metadata": {},
   "source": [
    "<a id='3'></a>"
   ]
  },
  {
   "cell_type": "markdown",
   "id": "funny-harbor",
   "metadata": {},
   "source": [
    "### 1b. CSV file"
   ]
  },
  {
   "cell_type": "markdown",
   "id": "considered-search",
   "metadata": {},
   "source": [
    "A comma-separated values (CSV) file is a delimited text file that uses a comma to separate values. Each line of the file is a data record. Each record consists of one or more fields, separated by commas. The use of the comma as a field separator is the source of the name for this file format. A CSV file typically stores tabular data (numbers and text) in plain text, in which case each line will have the same number of fields."
   ]
  },
  {
   "cell_type": "markdown",
   "id": "failing-christian",
   "metadata": {},
   "source": [
    "<a id='4'></a>"
   ]
  },
  {
   "cell_type": "markdown",
   "id": "peripheral-termination",
   "metadata": {},
   "source": [
    "### 1c.JSON file"
   ]
  },
  {
   "cell_type": "markdown",
   "id": "substantial-saint",
   "metadata": {},
   "source": [
    "JSON (JavaScript Object Notation) is an open standard file format, and data interchange format, that uses human-readable text to store and transmit data objects consisting of attribute–value pairs and array data types (or any other serializable value."
   ]
  },
  {
   "cell_type": "markdown",
   "id": "funded-couple",
   "metadata": {},
   "source": [
    "<a id='5'></a>"
   ]
  },
  {
   "cell_type": "markdown",
   "id": "fitted-discovery",
   "metadata": {},
   "source": [
    "### 1d. Parquet file"
   ]
  },
  {
   "cell_type": "markdown",
   "id": "southern-diagram",
   "metadata": {},
   "source": [
    "Apache Parquet is a free and open-source column-oriented data storage format of the Apache Hadoop ecosystem. It is similar to the other columnar-storage file formats available in Hadoop namely RCFile and ORC. It is compatible with most of the data processing frameworks in the Hadoop environment. It provides efficient data compression and encoding schemes with enhanced performance to handle complex data in bulk.\n",
    "\n",
    "\n",
    "Parquet uses the record shredding and assembly algorithm which is superior to simple flattening of nested namespaces. Parquet is optimized to work with complex data in bulk and features different ways for efficient data compression and encoding types.  This approach is best especially for those queries that need to read certain columns from a large table. Parquet can only read the needed columns therefore greatly minimizing the IO.\n",
    "\n",
    "Advantages of Storing Data in a Columnar Format:\n",
    "\n",
    "- Columnar storage like Apache Parquet is designed to bring efficiency compared to row-based files like CSV. When querying columnar storage you can skip over the non-relevant data very quickly. As a result, aggregation queries are less time consuming compared to row-oriented databases. This way of storage has translated into hardware savings and minimized latency for accessing data.\n",
    "- Apache Parquet is built from the ground up. Hence it is able to support advanced nested data structures. The layout of Parquet data files is optimized for queries that process large volumes of data, in the gigabyte range for each individual file.\n",
    "- Parquet is built to support flexible compression options and efficient encoding schemes. As the data type for each column is quite similar, the compression of each column is straightforward (which makes queries even faster). Data can be compressed by using one of the several codecs available; as a result, different data files can be compressed differently.\n",
    "\n",
    "The values in each column are physically stored in contiguous memory locations and this columnar storage provides the following benefits:\n",
    "\n",
    "- Column-wise compression is efficient and saves storage space\n",
    "- Compression techniques specific to a type can be applied as the column values tend to be of the same type\n",
    "- Queries that fetch specific column values need not read the entire row data thus improving performance\n",
    "- Different encoding techniques can be applied to different columns\n"
   ]
  },
  {
   "cell_type": "markdown",
   "id": "blind-doctor",
   "metadata": {},
   "source": [
    "<a id='6'></a>"
   ]
  },
  {
   "cell_type": "markdown",
   "id": "distributed-tablet",
   "metadata": {},
   "source": [
    "### 1e. ORC file"
   ]
  },
  {
   "cell_type": "markdown",
   "id": "discrete-climb",
   "metadata": {},
   "source": [
    "Apache ORC (Optimized Row Columnar) is a free and open-source column-oriented data storage format of the Apache Hadoop ecosystem. It is similar to the other columnar-storage file formats available in the Hadoop ecosystem such as RCFile and Parquet. It is compatible with most of the data processing frameworks in the Hadoop environment.\n",
    "\n",
    "ORC is a self-describing type-aware columnar file format designed for Hadoop workloads. It is optimized for large streaming reads, but with integrated support for finding required rows quickly. Storing data in a columnar format lets the reader read, decompress, and process only the values that are required for the current query. Because ORC files are type-aware, the writer chooses the most appropriate encoding for the type and builds an internal index as the file is written. Predicate pushdown uses those indexes to determine which stripes in a file need to be read for a particular query and the row indexes can narrow the search to a particular set of 10,000 rows. ORC supports the complete set of types in Hive, including the complex types: structs, lists, maps, and unions.\n",
    "\n",
    "The ORC file format provides the following advantages:\n",
    "\n",
    "- Efficient compression: Stored as columns and compressed, which leads to smaller disk reads. The columnar format is also ideal for vectorization optimizations in Tez.\n",
    "- Fast reads: ORC has a built-in index, min/max values, and other aggregates that cause entire stripes to be skipped during reads. In addition, predicate pushdown pushes filters into reads so that minimal rows are read. And Bloom filters further reduce the number of rows that are returned.\n",
    "- Proven in large-scale deployments: Facebook uses the ORC file format for a 300+ PB deployment."
   ]
  },
  {
   "cell_type": "markdown",
   "id": "parliamentary-geography",
   "metadata": {},
   "source": [
    "<a id='7'></a>"
   ]
  },
  {
   "cell_type": "markdown",
   "id": "original-brunei",
   "metadata": {},
   "source": [
    "### 1e. AVRO file"
   ]
  },
  {
   "cell_type": "markdown",
   "id": "foster-gamma",
   "metadata": {},
   "source": [
    "Avro is a row-oriented remote procedure call and data serialization framework developed within Apache's Hadoop project. \n",
    "\n",
    "It uses JSON for defining data types and protocols, and serializes data in a compact binary format. Its primary use is in Apache Hadoop, where it can provide both a serialization format for persistent data, and a wire format for communication between Hadoop nodes, and from client programs to the Hadoop services. \n",
    "\n",
    "Avro uses a schema to structure the data that is being encoded. It has two different types of schema languages; one for human editing (Avro IDL) and another which is more machine-readable based on JSON.\n",
    "\n",
    "The Avro data source supports:\n",
    "\n",
    "- Schema conversion: Automatic conversion between Apache Spark SQL and Avro records.\n",
    "- Partitioning: Easily reading and writing partitioned data without any extra configuration.\n",
    "- Compression: Compression to use when writing Avro out to disk. The supported types are uncompressed, snappy, and deflate. \n",
    "- Record names: Record name and namespace by passing a map of parameters with recordName and recordNamespace."
   ]
  },
  {
   "cell_type": "markdown",
   "id": "consistent-strand",
   "metadata": {},
   "source": [
    "<a id='8'></a>"
   ]
  },
  {
   "cell_type": "markdown",
   "id": "jewish-theme",
   "metadata": {},
   "source": [
    "### 1f. Whole Binary file"
   ]
  },
  {
   "cell_type": "markdown",
   "id": "occupied-organization",
   "metadata": {},
   "source": [
    "A binary file is a computer file that is not a text file.\n",
    "\n",
    "Binary files are usually thought of as being a sequence of bytes, which means the binary digits (bits) are grouped in eights. \n",
    "\n",
    "Binary files typically contain bytes that are intended to be interpreted as something other than text characters. Compiled computer programs are typical examples; indeed, compiled applications are sometimes referred to, particularly by programmers, as binaries. But binary files can also mean that they contain images, sounds, compressed versions of other files, etc. – in short, any type of file content whatsoever"
   ]
  },
  {
   "cell_type": "code",
   "execution_count": 110,
   "id": "sonic-craft",
   "metadata": {},
   "outputs": [
    {
     "name": "stdout",
     "output_type": "stream",
     "text": [
      "+----+---+----+---+----------+---------------------------------------+\n",
      "|_1  |_2 |_3  |_4 |_5        |_6                                     |\n",
      "+----+---+----+---+----------+---------------------------------------+\n",
      "|John|180|true|1.7|1960-01-01|{“home”: 123456789, “office”:234567567}|\n",
      "+----+---+----+---+----------+---------------------------------------+\n",
      "\n"
     ]
    }
   ],
   "source": [
    "#./bin/spark-submit --packages org.apache.spark:spark-avro_2.12:3.0.2 ...\n",
    "import pyspark\n",
    "from pyspark.sql import SparkSession\n",
    "spark = SparkSession \\\n",
    "    .builder \\\n",
    "    .appName(\"Python Spark SQL basic example\") \\\n",
    "    .config('spark.jars.packages', 'org.apache.spark:spark-avro_2.12:3.0.2')\\\n",
    "    .getOrCreate()\n",
    "spark.createDataFrame([(\"John\",180,True, 1.7, \"1960-01-01\", '{“home”: 123456789, “office”:234567567}'),]).show(1,False)        "
   ]
  },
  {
   "cell_type": "markdown",
   "id": "bound-namibia",
   "metadata": {},
   "source": [
    "<a id='9'></a>"
   ]
  },
  {
   "cell_type": "markdown",
   "id": "certain-armstrong",
   "metadata": {},
   "source": [
    "## 2. Reading & Writing data from various data sources"
   ]
  },
  {
   "cell_type": "markdown",
   "id": "split-optics",
   "metadata": {},
   "source": [
    "<a id='10'></a>"
   ]
  },
  {
   "cell_type": "markdown",
   "id": "random-seafood",
   "metadata": {},
   "source": [
    "### 2a. Reading from text file into spark data frame"
   ]
  },
  {
   "cell_type": "markdown",
   "id": "recorded-filing",
   "metadata": {},
   "source": [
    "```{admonition} Syntax\n",
    "<b>text(paths, wholetext=False, lineSep=None, pathGlobFilter=None, recursiveFileLookup=None)</b>\n",
    "Loads text files and returns a DataFrame whose schema starts with a string column named “value”, and followed by partitioned columns if there are any. The text files must be encoded as UTF-8.\n",
    "By default, each line in the text file is a new row in the resulting DataFrame.\n",
    "\n",
    "<b>Parameters</b>:\n",
    "\n",
    "- paths – string, or list of strings, for input path(s).\n",
    "- wholetext – if true, read each file from input path(s) as a single row.\n",
    "- lineSep – defines the line separator that should be used for parsing. \n",
    "   If None is set, it covers all \\r, \\r\\n and \\n.\n",
    "- pathGlobFilter – an optional glob pattern to only include files with paths matching the pattern. The syntax follows org.apache.hadoop.fs.GlobFilter. It does not change the behavior of partition discovery.\n",
    "- recursiveFileLookup – recursively scan a directory for files. Using this option disables partition discovery.\n",
    "\n",
    "\n",
    "```"
   ]
  },
  {
   "cell_type": "markdown",
   "id": "general-design",
   "metadata": {},
   "source": [
    "<b>Input: Text File</b>"
   ]
  },
  {
   "cell_type": "markdown",
   "id": "written-spouse",
   "metadata": {},
   "source": [
    "```{figure} img/chapter3/2a.png\n",
    "---\n",
    "align: center\n",
    "---\n",
    "```"
   ]
  },
  {
   "cell_type": "markdown",
   "id": "shared-above",
   "metadata": {},
   "source": [
    "<b>Input: Spark data frame</b>"
   ]
  },
  {
   "cell_type": "code",
   "execution_count": 111,
   "id": "elect-theology",
   "metadata": {},
   "outputs": [
    {
     "name": "stdout",
     "output_type": "stream",
     "text": [
      "+---------------------------------------------------------------------------------------------------------------------------------------------------------------------+\n",
      "|value                                                                                                                                                                |\n",
      "+---------------------------------------------------------------------------------------------------------------------------------------------------------------------+\n",
      "|Apache Spark is a unified analytics engine for large-scale data processing.                                                                                          |\n",
      "|Apache Spark achieves high performance for both batch and streaming data, using a state-of-the-art DAG scheduler, a query optimizer, and a physical execution engine.|\n",
      "+---------------------------------------------------------------------------------------------------------------------------------------------------------------------+\n",
      "\n"
     ]
    }
   ],
   "source": [
    "df_text = spark.read.text(\"data/text/sample.txt\")\n",
    "df_text.show(2,False)"
   ]
  },
  {
   "cell_type": "markdown",
   "id": "joint-consortium",
   "metadata": {},
   "source": [
    "#### Saving the spark data frame content into a text file"
   ]
  },
  {
   "cell_type": "markdown",
   "id": "split-microphone",
   "metadata": {},
   "source": [
    "```{admonition} Syntax\n",
    "<b>text(path, compression=None, lineSep=None)</b>\n",
    "Saves the content of the DataFrame in a text file at the specified path. The text files will be encoded as UTF-8.\n",
    "The DataFrame must have only one column that is of string type. Each row becomes a new line in the output file.\n",
    "\n",
    "<b>Parameters</b>:\n",
    "\n",
    "- path – the path in any Hadoop supported file system\n",
    "- compression – compression codec to use when saving to file. This can be one of the known case-insensitive shorten names (none, bzip2, gzip, lz4, snappy and deflate).\n",
    "- lineSep – defines the line separator that should be used for writing. \n",
    "   If None is set, it uses the default value, \\n.\n",
    "\n",
    "```"
   ]
  },
  {
   "cell_type": "code",
   "execution_count": 112,
   "id": "worth-combine",
   "metadata": {},
   "outputs": [],
   "source": [
    "df_text.write.mode(\"overwrite\").text(\"data/text/sample_write\")"
   ]
  },
  {
   "cell_type": "markdown",
   "id": "respective-diamond",
   "metadata": {},
   "source": [
    "To verify the save, let us read the file into data frame\n"
   ]
  },
  {
   "cell_type": "code",
   "execution_count": 113,
   "id": "improved-campaign",
   "metadata": {},
   "outputs": [
    {
     "name": "stdout",
     "output_type": "stream",
     "text": [
      "+---------------------------------------------------------------------------------------------------------------------------------------------------------------------+\n",
      "|value                                                                                                                                                                |\n",
      "+---------------------------------------------------------------------------------------------------------------------------------------------------------------------+\n",
      "|Apache Spark is a unified analytics engine for large-scale data processing.                                                                                          |\n",
      "|Apache Spark achieves high performance for both batch and streaming data, using a state-of-the-art DAG scheduler, a query optimizer, and a physical execution engine.|\n",
      "+---------------------------------------------------------------------------------------------------------------------------------------------------------------------+\n",
      "\n"
     ]
    }
   ],
   "source": [
    "spark.read.text(\"data/text/sample_write\").show(2,False)"
   ]
  },
  {
   "cell_type": "markdown",
   "id": "incorporate-bridge",
   "metadata": {},
   "source": [
    "<a id='11'></a>"
   ]
  },
  {
   "cell_type": "markdown",
   "id": "potential-payroll",
   "metadata": {},
   "source": [
    "### 2b. Reading from CSV file into spark data frame"
   ]
  },
  {
   "cell_type": "markdown",
   "id": "expensive-endorsement",
   "metadata": {},
   "source": [
    "```{admonition} Syntax\n",
    "<b>csv(path, schema=None, sep=None, encoding=None, quote=None, escape=None, comment=None, header=None, inferSchema=None, ignoreLeadingWhiteSpace=None, ignoreTrailingWhiteSpace=None, nullValue=None, nanValue=None, positiveInf=None, negativeInf=None, dateFormat=None, timestampFormat=None, maxColumns=None, maxCharsPerColumn=None, maxMalformedLogPerPartition=None, mode=None, columnNameOfCorruptRecord=None, multiLine=None, charToEscapeQuoteEscaping=None, samplingRatio=None, enforceSchema=None, emptyValue=None, locale=None, lineSep=None, pathGlobFilter=None, recursiveFileLookup=None)</b>\n",
    "\n",
    "Loads a CSV file and returns the result as a DataFrame.\n",
    "\n",
    "This function will go through the input once to determine the input schema if inferSchema is enabled. To avoid going through the entire data once, disable inferSchema option or specify the schema explicitly using schema.\n",
    "\n",
    "<b>Parameters</b>:\n",
    "- path – string, or list of strings, for input path(s), or RDD of Strings storing CSV rows.\n",
    "- schema – an optional pyspark.sql.types.StructType for the input schema or a DDL-formatted string (For example col0 INT, col1 DOUBLE).\n",
    "- sep – sets a separator (one or more characters) for each field and value. If None is set, it uses the default value, ,.\n",
    "- encoding – decodes the CSV files by the given encoding type. If None is set, it uses the default value, UTF-8.\n",
    "- quote – sets a single character used for escaping quoted values where the separator can be part of the value. If None is set, it uses the default value, \". If you would like to turn off quotations, you need to set an empty string.\n",
    "- escape – sets a single character used for escaping quotes inside an already quoted value. If None is set, it uses the default value, \\.\n",
    "- comment – sets a single character used for skipping lines beginning with this character. By default (None), it is disabled.\n",
    "- header – uses the first line as names of columns. If None is set, it uses the default value, false. .. note:: if the given path is a RDD of Strings, this header option will remove all lines same with the header if exists.\n",
    "- inferSchema – infers the input schema automatically from data. It requires one extra pass over the data. If None is set, it uses the default value, false.\n",
    "- enforceSchema – If it is set to true, the specified or inferred schema will be forcibly applied to datasource files, and headers in CSV files will be ignored. If the option is set to false, the schema will be validated against all headers in CSV files or the first header in RDD if the header option is set to true. Field names in the schema and column names in CSV headers are checked by their positions taking into account spark.sql.caseSensitive. If None is set, true is used by default. Though the default value is true, it is recommended to disable the enforceSchema option to avoid incorrect results.\n",
    "- ignoreLeadingWhiteSpace – A flag indicating whether or not leading whitespaces from values being read should be skipped. If None is set, it uses the default value, false.\n",
    "- ignoreTrailingWhiteSpace – A flag indicating whether or not trailing whitespaces from values being read should be skipped. If None is set, it uses the default value, false.\n",
    "- nullValue – sets the string representation of a null value. If None is set, it uses the default value, empty string. Since 2.0.1, this nullValue param applies to all supported types including the string type.\n",
    "- nanValue – sets the string representation of a non-number value. If None is set, it uses the default value, NaN.\n",
    "- positiveInf – sets the string representation of a positive infinity value. If None is set, it uses the default value, Inf.\n",
    "- negativeInf – sets the string representation of a negative infinity value. If None is set, it uses the default value, Inf.\n",
    "- dateFormat – sets the string that indicates a date format. Custom date formats follow the formats at datetime pattern. This applies to date type. If None is set, it uses the default value, yyyy-MM-dd.\n",
    "timestampFormat – sets the string that indicates a timestamp format. Custom date formats follow the formats at datetime pattern. This applies to timestamp type. If None is set, it uses the default value, yyyy-MM-dd'T'HH:mm:ss[.SSS][XXX].\n",
    "- maxColumns – defines a hard limit of how many columns a record can have. If None is set, it uses the default value, 20480.\n",
    "- maxCharsPerColumn – defines the maximum number of characters allowed for any given value being read. If None is set, it uses the default value, -1 meaning unlimited length.\n",
    "- maxMalformedLogPerPartition – this parameter is no longer used since Spark 2.2.0. If specified, it is ignored.\n",
    "- mode –\n",
    "allows a mode for dealing with corrupt records during parsing. If None is\n",
    "set, it uses the default value, PERMISSIVE. Note that Spark tries to parse only required columns in CSV under column pruning. Therefore, corrupt records can be different based on required set of fields. This behavior can be controlled by spark.sql.csv.parser.columnPruning.enabled (enabled by default).\n",
    "PERMISSIVE: when it meets a corrupted record, puts the malformed string into a field configured by columnNameOfCorruptRecord, and sets malformed fields to null. To keep corrupt records, an user can set a string type field named columnNameOfCorruptRecord in an user-defined schema. If a schema does not have the field, it drops corrupt records during parsing. A record with less/more tokens than schema is not a corrupted record to CSV. When it meets a record having fewer tokens than the length of the schema, sets null to extra fields. When the record has more tokens than the length of the schema, it drops extra tokens.\n",
    "DROPMALFORMED: ignores the whole corrupted records.\n",
    "FAILFAST: throws an exception when it meets corrupted records.\n",
    "columnNameOfCorruptRecord – allows renaming the new field having malformed string created by PERMISSIVE mode. This overrides spark.sql.columnNameOfCorruptRecord. If None is set, it uses the value specified in spark.sql.columnNameOfCorruptRecord.\n",
    "- multiLine – parse records, which may span multiple lines. If None is set, it uses the default value, false.\n",
    "charToEscapeQuoteEscaping – sets a single character used for escaping the escape for the quote character. If None is set, the default value is escape character when escape and quote characters are different, \\0 otherwise.\n",
    "- samplingRatio – defines fraction of rows used for schema inferring. If None is set, it uses the default value, 1.0.\n",
    "- emptyValue – sets the string representation of an empty value. If None is set, it uses the default value, empty string.\n",
    "- locale – sets a locale as language tag in IETF BCP 47 format. If None is set, it uses the default value, en-US. For instance, locale is used while parsing dates and timestamps.\n",
    "- lineSep – defines the line separator that should be used for parsing. If None is set, it covers all \\\\r, \\\\r\\\\n and \\\\n. Maximum length is 1 character.\n",
    "- pathGlobFilter – an optional glob pattern to only include files with paths matching the pattern. The syntax follows org.apache.hadoop.fs.GlobFilter. It does not change the behavior of partition discovery.\n",
    "- recursiveFileLookup – recursively scan a directory for files. Using this option disables partition discovery.\n",
    "\n",
    "```\n"
   ]
  },
  {
   "cell_type": "code",
   "execution_count": 114,
   "id": "careful-scholarship",
   "metadata": {},
   "outputs": [
    {
     "name": "stdout",
     "output_type": "stream",
     "text": [
      "+----+------+------+------+----------+-------------------------------------+-------------------+-----------------------------------------------------------------+\n",
      "|name|weight|smoker|height|birthdate |phone_nos                            |favorite_colors    |address                                                          |\n",
      "+----+------+------+------+----------+-------------------------------------+-------------------+-----------------------------------------------------------------+\n",
      "|john|180   |true  |1.7   |1960-01-01|{\"office\":123456789,\"home\":223456789}|[\"blue\",\"red\"]     |{\"houseno\":100,\"street\":\"street1\",\"city\":\"city1\",\"zipcode\":12345}|\n",
      "|tony|180   |true  |1.8   |1990-01-01|{\"office\":223456789,\"home\":323456789}|[\"green\",\"purple\"] |{\"houseno\":200,\"street\":\"street2\",\"city\":\"city2\",\"zipcode\":22345}|\n",
      "|mike|180   |true  |1.65  |1980-01-01|{\"office\":323456789,\"home\":423456789}|[\"yellow\",\"orange\"]|{\"houseno\":300,\"street\":\"street3\",\"city\":\"city3\",\"zipcode\":32345}|\n",
      "+----+------+------+------+----------+-------------------------------------+-------------------+-----------------------------------------------------------------+\n",
      "\n"
     ]
    }
   ],
   "source": [
    "df_csv = spark.read.csv('/Users/deepak/Documents/sparkbook/chapters/data/people.csv', header=True)\n",
    "df_csv.show(3,False)"
   ]
  },
  {
   "cell_type": "markdown",
   "id": "union-dining",
   "metadata": {},
   "source": [
    "#### Saving the spark data frame content into a CSV file"
   ]
  },
  {
   "cell_type": "markdown",
   "id": "communist-jason",
   "metadata": {},
   "source": [
    "```{admonition} Syntax\n",
    "<b>csv(path, mode=None, compression=None, sep=None, quote=None, escape=None, header=None, nullValue=None, escapeQuotes=None, quoteAll=None, dateFormat=None, timestampFormat=None, ignoreLeadingWhiteSpace=None, ignoreTrailingWhiteSpace=None, charToEscapeQuoteEscaping=None, encoding=None, emptyValue=None, lineSep=None)</b>\n",
    "Saves the content of the DataFrame in CSV format at the specified path.\n",
    "\n",
    "<b>Parameters</b>:\n",
    "- path – the path in any Hadoop supported file system\n",
    "- mode –\n",
    "   specifies the behavior of the save operation when data already exists.\n",
    "    append: Append contents of this DataFrame to existing data.\n",
    "    overwrite: Overwrite existing data.\n",
    "    ignore: Silently ignore this operation if data already exists.\n",
    "    error or errorifexists (default case): Throw an exception if data already\n",
    "    exists.\n",
    "- compression – compression codec to use when saving to file. This can be one of the known case-insensitive shorten names (none, bzip2, gzip, lz4, snappy and deflate).\n",
    "- sep – sets a separator (one or more characters) for each field and value. If None is set, it uses the default value, ,.\n",
    "- quote – sets a single character used for escaping quoted values where the separator can be part of the value. If None is set, it uses the default value, \". If an empty string is set, it uses u0000 (null character).\n",
    "- escape – sets a single character used for escaping quotes inside an already quoted value. If None is set, it uses the default value, \\\n",
    "- escapeQuotes – a flag indicating whether values containing quotes should always be enclosed in quotes. If None is set, it uses the default value true, escaping all values containing a quote character.\n",
    "- quoteAll – a flag indicating whether all values should always be enclosed in quotes. If None is set, it uses the default value false, only escaping values containing a quote character.\n",
    "- header – writes the names of columns as the first line. If None is set, it uses the default value, false.\n",
    "- nullValue – sets the string representation of a null value. If None is set, it uses the default value, empty string.\n",
    "- dateFormat – sets the string that indicates a date format. Custom date formats follow the formats at datetime pattern. This applies to date type. If None is set, it uses the default value, yyyy-MM-dd.\n",
    "- timestampFormat – sets the string that indicates a timestamp format. Custom date formats follow the formats at datetime pattern. This applies to timestamp type. If None is set, it uses the default value, yyyy-MM-dd'T'HH:mm:ss[.SSS][XXX].\n",
    "- ignoreLeadingWhiteSpace – a flag indicating whether or not leading whitespaces from values being written should be skipped. If None is set, it uses the default value, true.\n",
    "- ignoreTrailingWhiteSpace – a flag indicating whether or not trailing whitespaces from values being written should be skipped. If None is set, it uses the default value, true.\n",
    "- charToEscapeQuoteEscaping – sets a single character used for escaping the escape for the quote character. If None is set, the default value is escape character when escape and quote characters are different, \\0 otherwise..\n",
    "- encoding – sets the encoding (charset) of saved csv files. If None is set, the default UTF-8 charset will be used.\n",
    "- emptyValue – sets the string representation of an empty value. If None is set, it uses the default value, \"\".\n",
    "- lineSep – defines the line separator that should be used for writing. If None is set, it uses the default value, \\\\n. Maximum length is 1 character.\n",
    "\n",
    "\n",
    "```\n"
   ]
  },
  {
   "cell_type": "code",
   "execution_count": 115,
   "id": "difficult-discovery",
   "metadata": {},
   "outputs": [],
   "source": [
    "df_csv.write.csv(\"data/people_csv_write\",mode='overwrite',header=True)"
   ]
  },
  {
   "cell_type": "code",
   "execution_count": 116,
   "id": "structural-palestine",
   "metadata": {},
   "outputs": [
    {
     "name": "stdout",
     "output_type": "stream",
     "text": [
      "+----+------+------+------+----------+--------------------+-------------------+--------------------+\n",
      "|name|weight|smoker|height| birthdate|           phone_nos|    favorite_colors|             address|\n",
      "+----+------+------+------+----------+--------------------+-------------------+--------------------+\n",
      "|john|   180|  true|   1.7|1960-01-01|{\"office\":1234567...|     [\"blue\",\"red\"]|{\"houseno\":100,\"s...|\n",
      "|tony|   180|  true|   1.8|1990-01-01|{\"office\":2234567...| [\"green\",\"purple\"]|{\"houseno\":200,\"s...|\n",
      "|mike|   180|  true|  1.65|1980-01-01|{\"office\":3234567...|[\"yellow\",\"orange\"]|{\"houseno\":300,\"s...|\n",
      "+----+------+------+------+----------+--------------------+-------------------+--------------------+\n",
      "\n"
     ]
    }
   ],
   "source": [
    "spark.read.csv(\"data/people_csv_write\",header=True).show()"
   ]
  },
  {
   "cell_type": "markdown",
   "id": "intelligent-steel",
   "metadata": {},
   "source": [
    "<a id='12'></a>"
   ]
  },
  {
   "cell_type": "markdown",
   "id": "extreme-academy",
   "metadata": {},
   "source": [
    "### 2c. Reading from JSON file into spark data frame"
   ]
  },
  {
   "cell_type": "markdown",
   "id": "excessive-harvard",
   "metadata": {},
   "source": [
    "```{admonition} Syntax\n",
    "<b>json(path, schema=None, primitivesAsString=None, prefersDecimal=None, allowComments=None, allowUnquotedFieldNames=None, allowSingleQuotes=None, allowNumericLeadingZero=None, allowBackslashEscapingAnyCharacter=None, mode=None, columnNameOfCorruptRecord=None, dateFormat=None, timestampFormat=None, multiLine=None, allowUnquotedControlChars=None, lineSep=None, samplingRatio=None, dropFieldIfAllNull=None, encoding=None, locale=None, pathGlobFilter=None, recursiveFileLookup=None)\n",
    "</b>\n",
    "Loads JSON files and returns the results as a DataFrame.\n",
    "JSON Lines (newline-delimited JSON) is supported by default. For JSON (one record per file), set the multiLine parameter to true.\n",
    "\n",
    "<b>Parameters</b>:\n",
    "- path – string represents path to the JSON dataset, or a list of paths, or RDD of Strings storing JSON objects.\n",
    "- schema – an optional pyspark.sql.types.StructType for the input schema or a DDL-formatted string (For example col0 INT, col1 DOUBLE).\n",
    "- primitivesAsString – infers all primitive values as a string type. If None is set, it uses the default value, false.\n",
    "- prefersDecimal – infers all floating-point values as a decimal type. If the values do not fit in decimal, then it infers them as doubles. If None is set, it uses the default value, false.\n",
    "- allowComments – ignores Java/C++ style comment in JSON records. If None is set, it uses the default value, false.\n",
    "- allowUnquotedFieldNames – allows unquoted JSON field names. If None is set, it uses the default value, false.\n",
    "- allowSingleQuotes – allows single quotes in addition to double quotes. If None is set, it uses the default value, true.\n",
    "- allowNumericLeadingZero – allows leading zeros in numbers (e.g. 00012). If None is set, it uses the default value, false.\n",
    "- allowBackslashEscapingAnyCharacter – allows accepting quoting of all character using backslash quoting mechanism. If None is set, it uses the default value, false.\n",
    "- mode –\n",
    "    allows a mode for dealing with corrupt records during parsing. If None is\n",
    "    set, it uses the default value, PERMISSIVE.\n",
    "    PERMISSIVE: when it meets a corrupted record, puts the malformed string into a field configured by columnNameOfCorruptRecord, and sets malformed fields to null. To keep corrupt records, an user can set a string type field named columnNameOfCorruptRecord in an user-defined schema. If a schema does not have the field, it drops corrupt records during parsing. When inferring a schema, it implicitly adds a columnNameOfCorruptRecord field in an output schema.\n",
    "    DROPMALFORMED: ignores the whole corrupted records.\n",
    "    FAILFAST: throws an exception when it meets corrupted records.\n",
    "- columnNameOfCorruptRecord – allows renaming the new field having malformed string created by PERMISSIVE mode. This overrides spark.sql.columnNameOfCorruptRecord. If None is set, it uses the value specified in spark.sql.columnNameOfCorruptRecord.\n",
    "- dateFormat – sets the string that indicates a date format. Custom date formats follow the formats at datetime pattern. This applies to date type. If None is set, it uses the default value, yyyy-MM-dd.\n",
    "- timestampFormat – sets the string that indicates a timestamp format. Custom date formats follow the formats at datetime pattern. This applies to timestamp type. If None is set, it uses the default value, yyyy-MM-dd'T'HH:mm:ss[.SSS][XXX].\n",
    "- multiLine – parse one record, which may span multiple lines, per file. If None is set, it uses the default value, false.\n",
    "- allowUnquotedControlChars – allows JSON Strings to contain unquoted control characters (ASCII characters with value less than 32, including tab and line feed characters) or not.\n",
    "encoding – allows to forcibly set one of standard basic or extended encoding for the JSON files. For example UTF-16BE, UTF-32LE. If None is set, the encoding of input JSON will be detected automatically when the multiLine option is set to true.\n",
    "\n",
    "\n",
    "```\n"
   ]
  },
  {
   "cell_type": "code",
   "execution_count": 117,
   "id": "optical-paper",
   "metadata": {},
   "outputs": [
    {
     "name": "stdout",
     "output_type": "stream",
     "text": [
      "+----------------------------+----------+----------------+------+----+----------------------+------+------+\n",
      "|address                     |birthdate |favorite_colors |height|name|phone_nos             |smoker|weight|\n",
      "+----------------------------+----------+----------------+------+----+----------------------+------+------+\n",
      "|[city1, 100, street1, 12345]|1960-01-01|[blue, red]     |1.7   |john|[223456789, 123456789]|true  |180   |\n",
      "|[city2, 200, street2, 22345]|1990-01-01|[green, purple] |1.8   |tony|[323456789, 223456789]|true  |180   |\n",
      "|[city3, 300, street3, 32345]|1980-01-01|[yellow, orange]|1.65  |mike|[423456789, 323456789]|true  |180   |\n",
      "+----------------------------+----------+----------------+------+----+----------------------+------+------+\n",
      "\n"
     ]
    }
   ],
   "source": [
    "jsonStrings = ['{\"name\":\"Yin\",\"age\":45,\"smoker\": true,\"test\":34, \"address\":{\"city\":\"Columbus\",\"state\":\"Ohio\"},\"favorite_colors\": [\"blue\",\"green\"] }',]\n",
    "otherPeopleRDD = spark.sparkContext.parallelize(jsonStrings)\n",
    "otherPeople = spark.read.json(otherPeopleRDD)\n",
    "df_json = spark.read.format(\"json\").load(\"data/json\")\n",
    "df_json.show(3,False)"
   ]
  },
  {
   "cell_type": "markdown",
   "id": "intense-press",
   "metadata": {},
   "source": [
    "#### Saving the spark data frame content into a JSON  file"
   ]
  },
  {
   "cell_type": "markdown",
   "id": "crucial-christmas",
   "metadata": {},
   "source": [
    "```{admonition} Syntax\n",
    "<b>json(path, mode=None, compression=None, dateFormat=None, timestampFormat=None, lineSep=None, encoding=None, ignoreNullFields=None)</b>\n",
    "Saves the content of the DataFrame in JSON format (JSON Lines text format or newline-delimited JSON) at the specified path.\n",
    "\n",
    "<b>Parameters</b>:\n",
    "\n",
    "- path – the path in any Hadoop supported file system\n",
    "- mode –\n",
    "   specifies the behavior of the save operation when data already exists.\n",
    "    append: Append contents of this DataFrame to existing data.\n",
    "    overwrite: Overwrite existing data.\n",
    "    ignore: Silently ignore this operation if data already exists.\n",
    "    error or errorifexists (default case): Throw an exception if data already exists.\n",
    "- compression – compression codec to use when saving to file. This can be one of the known case-insensitive shorten names (none, bzip2, gzip, lz4, snappy and deflate).\n",
    "- dateFormat – sets the string that indicates a date format. Custom date formats follow the formats at datetime pattern. This applies to date type. If None is set, it uses the default value, yyyy-MM-dd.\n",
    "- timestampFormat – sets the string that indicates a timestamp format. Custom date formats follow the formats at datetime pattern. This applies to timestamp type. If None is set, it uses the default value, yyyy-MM-dd'T'HH:mm:ss[.SSS][XXX].\n",
    "- encoding – specifies encoding (charset) of saved json files. If None is set, the default UTF-8 charset will be used.\n",
    "- lineSep – defines the line separator that should be used for writing. If None is set, it uses the default value, \\n.\n",
    "- ignoreNullFields – Whether to ignore null fields when generating JSON objects. If None is set, it uses the default value, true.\n",
    "\n",
    "```"
   ]
  },
  {
   "cell_type": "code",
   "execution_count": 118,
   "id": "spatial-patient",
   "metadata": {},
   "outputs": [],
   "source": [
    "df_json.write.json(\"data/json_write\",mode='overwrite')"
   ]
  },
  {
   "cell_type": "code",
   "execution_count": 119,
   "id": "bottom-creation",
   "metadata": {},
   "outputs": [
    {
     "name": "stdout",
     "output_type": "stream",
     "text": [
      "+--------------------+----------+----------------+------+----+--------------------+------+------+\n",
      "|             address| birthdate| favorite_colors|height|name|           phone_nos|smoker|weight|\n",
      "+--------------------+----------+----------------+------+----+--------------------+------+------+\n",
      "|[city1, 100, stre...|1960-01-01|     [blue, red]|   1.7|john|[223456789, 12345...|  true|   180|\n",
      "|[city2, 200, stre...|1990-01-01| [green, purple]|   1.8|tony|[323456789, 22345...|  true|   180|\n",
      "|[city3, 300, stre...|1980-01-01|[yellow, orange]|  1.65|mike|[423456789, 32345...|  true|   180|\n",
      "+--------------------+----------+----------------+------+----+--------------------+------+------+\n",
      "\n"
     ]
    }
   ],
   "source": [
    "spark.read.json(\"data/json_write\").show()"
   ]
  },
  {
   "cell_type": "markdown",
   "id": "reflected-encounter",
   "metadata": {},
   "source": [
    "<a id='13'></a>"
   ]
  },
  {
   "cell_type": "markdown",
   "id": "radical-builder",
   "metadata": {},
   "source": [
    "### 2d. Reading from Parquet file into spark data frame"
   ]
  },
  {
   "cell_type": "markdown",
   "id": "institutional-launch",
   "metadata": {},
   "source": [
    "```{admonition} Syntax\n",
    "<b>parquet(*paths, **options)</b>\n",
    "Loads Parquet files, returning the result as a DataFrame.\n",
    "\n",
    "<b>Parameters</b>:\n",
    "\n",
    "- mergeSchema – sets whether we should merge schemas collected from all Parquet part-files. This will override spark.sql.parquet.mergeSchema. The default value is specified in spark.sql.parquet.mergeSchema.\n",
    "- pathGlobFilter – an optional glob pattern to only include files with paths matching the pattern. The syntax follows org.apache.hadoop.fs.GlobFilter. It does not change the behavior of partition discovery.\n",
    "- recursiveFileLookup – recursively scan a directory for files. Using this option disables partition discovery. None is set, it uses the default value, \\n.\n",
    "\n",
    "```"
   ]
  },
  {
   "cell_type": "code",
   "execution_count": 120,
   "id": "fundamental-diesel",
   "metadata": {},
   "outputs": [
    {
     "name": "stdout",
     "output_type": "stream",
     "text": [
      "+----+------+------+------+----------+----------------------------------------+----------------+----------------------------+\n",
      "|name|weight|smoker|height|birthdate |phone_nos                               |favorite_colors |address                     |\n",
      "+----+------+------+------+----------+----------------------------------------+----------------+----------------------------+\n",
      "|john|180   |true  |1.7   |1960-01-01|[office -> 123456789, home -> 223456789]|[blue, red]     |[100, street1, city1, 12345]|\n",
      "|tony|180   |true  |1.8   |1990-01-01|[office -> 223456789, home -> 323456789]|[green, purple] |[200, street2, city2, 22345]|\n",
      "|mike|180   |true  |1.65  |1980-01-01|[office -> 323456789, home -> 423456789]|[yellow, orange]|[300, street3, city3, 32345]|\n",
      "+----+------+------+------+----------+----------------------------------------+----------------+----------------------------+\n",
      "\n"
     ]
    }
   ],
   "source": [
    "df_parquet = spark.read.parquet(\"data/parquetfile\")\n",
    "df_parquet.show(3,False)"
   ]
  },
  {
   "cell_type": "markdown",
   "id": "running-hampton",
   "metadata": {},
   "source": [
    "#### Saving the spark data frame content into a Parquet  file"
   ]
  },
  {
   "cell_type": "markdown",
   "id": "fatty-coordination",
   "metadata": {},
   "source": [
    "```{admonition} Syntax\n",
    "<b>parquet(path, mode=None, partitionBy=None, compression=None)</b>\n",
    "Saves the content of the DataFrame in Parquet format at the specified path.\n",
    "\n",
    "<b>Parameters</b>:\n",
    "\n",
    "- path – the path in any Hadoop supported file system\n",
    "- mode –\n",
    "  specifies the behavior of the save operation when data already exists.\n",
    "    append: Append contents of this DataFrame to existing data.\n",
    "    overwrite: Overwrite existing data.\n",
    "    ignore: Silently ignore this operation if data already exists.\n",
    "    error or errorifexists (default case): Throw an exception if data already exists.\n",
    "- partitionBy – names of partitioning columns\n",
    "- compression – compression codec to use when saving to file. This can be one of the known case-insensitive shorten names (none, uncompressed, snappy, gzip, lzo, brotli, lz4, and zstd). This will override spark.sql.parquet.compression.codec. If None is set, it uses the value specified in spark.sql.parquet.compression.codec.\n",
    "```"
   ]
  },
  {
   "cell_type": "code",
   "execution_count": 121,
   "id": "rural-convertible",
   "metadata": {},
   "outputs": [],
   "source": [
    "df_parquet.write.parquet(\"data/parquetfile_write\",mode='overwrite')"
   ]
  },
  {
   "cell_type": "code",
   "execution_count": 122,
   "id": "dutch-naples",
   "metadata": {},
   "outputs": [
    {
     "name": "stdout",
     "output_type": "stream",
     "text": [
      "+----+------+------+------+----------+----------------------------------------+----------------+----------------------------+\n",
      "|name|weight|smoker|height|birthdate |phone_nos                               |favorite_colors |address                     |\n",
      "+----+------+------+------+----------+----------------------------------------+----------------+----------------------------+\n",
      "|john|180   |true  |1.7   |1960-01-01|[office -> 123456789, home -> 223456789]|[blue, red]     |[100, street1, city1, 12345]|\n",
      "|tony|180   |true  |1.8   |1990-01-01|[office -> 223456789, home -> 323456789]|[green, purple] |[200, street2, city2, 22345]|\n",
      "|mike|180   |true  |1.65  |1980-01-01|[office -> 323456789, home -> 423456789]|[yellow, orange]|[300, street3, city3, 32345]|\n",
      "+----+------+------+------+----------+----------------------------------------+----------------+----------------------------+\n",
      "\n"
     ]
    }
   ],
   "source": [
    "spark.read.parquet(\"data/parquetfile_write\").show(3,False)"
   ]
  },
  {
   "cell_type": "markdown",
   "id": "muslim-warrant",
   "metadata": {},
   "source": [
    "<a id='14'></a>"
   ]
  },
  {
   "cell_type": "markdown",
   "id": "clinical-metabolism",
   "metadata": {},
   "source": [
    "### 2e. Reading from an ORC file into spark data frame"
   ]
  },
  {
   "cell_type": "markdown",
   "id": "black-hydrogen",
   "metadata": {},
   "source": [
    "```{admonition} Syntax\n",
    "<b>orc(path, mergeSchema=None, pathGlobFilter=None, recursiveFileLookup=None)</b>\n",
    "Loads ORC files, returning the result as a DataFrame.\n",
    "\n",
    "<b>Parameters</b>:\n",
    "\n",
    "- mergeSchema – sets whether we should merge schemas collected from all ORC part-files. This will override spark.sql.orc.mergeSchema. The default value is specified in spark.sql.orc.mergeSchema.\n",
    "- pathGlobFilter – an optional glob pattern to only include files with paths matching the pattern. The syntax follows org.apache.hadoop.fs.GlobFilter. It does not change the behavior of partition discovery.\n",
    "- recursiveFileLookup – recursively scan a directory for files. Using this option disables partition discovery.\n",
    "```"
   ]
  },
  {
   "cell_type": "code",
   "execution_count": 123,
   "id": "legendary-tooth",
   "metadata": {},
   "outputs": [
    {
     "name": "stdout",
     "output_type": "stream",
     "text": [
      "+----+------+------+------+----------+----------------------------------------+----------------+----------------------------+\n",
      "|name|weight|smoker|height|birthdate |phone_nos                               |favorite_colors |address                     |\n",
      "+----+------+------+------+----------+----------------------------------------+----------------+----------------------------+\n",
      "|john|180   |true  |1.7   |1960-01-01|[home -> 223456789, office -> 123456789]|[blue, red]     |[100, street1, city1, 12345]|\n",
      "|tony|180   |true  |1.8   |1990-01-01|[home -> 323456789, office -> 223456789]|[green, purple] |[200, street2, city2, 22345]|\n",
      "|mike|180   |true  |1.65  |1980-01-01|[home -> 423456789, office -> 323456789]|[yellow, orange]|[300, street3, city3, 32345]|\n",
      "+----+------+------+------+----------+----------------------------------------+----------------+----------------------------+\n",
      "\n"
     ]
    }
   ],
   "source": [
    "df_orc = spark.read.orc(\"data/orcfile\")\n",
    "df_orc.show(3,False)"
   ]
  },
  {
   "cell_type": "markdown",
   "id": "handled-acoustic",
   "metadata": {},
   "source": [
    "#### Saving the spark data frame content into an ORC  file"
   ]
  },
  {
   "cell_type": "markdown",
   "id": "modified-gallery",
   "metadata": {},
   "source": [
    "```{admonition} Syntax\n",
    "<b>orc(path, mode=None, partitionBy=None, compression=None)</b>\n",
    "Saves the content of the DataFrame in ORC format at the specified path.\n",
    "\n",
    "<b>Parameters</b>:\n",
    "\n",
    "- path – the path in any Hadoop supported file system\n",
    "- mode –\n",
    "   specifies the behavior of the save operation when data already exists.\n",
    "    append: Append contents of this DataFrame to existing data.\n",
    "    overwrite: Overwrite existing data.\n",
    "    ignore: Silently ignore this operation if data already exists.\n",
    "    error or errorifexists (default case): Throw an exception if data already exists.\n",
    "- partitionBy – names of partitioning columns\n",
    "- compression – compression codec to use when saving to file. This can be one of the known case-insensitive shorten names (none, snappy, zlib, and lzo). This will override orc.compress and spark.sql.orc.compression.codec. If None is set, it uses the value specified in spark.sql.orc.compression.codec.\n",
    "```"
   ]
  },
  {
   "cell_type": "code",
   "execution_count": 124,
   "id": "transsexual-bloom",
   "metadata": {},
   "outputs": [],
   "source": [
    "df_orc.write.orc(\"data/orcfile_write\",mode='overwrite')"
   ]
  },
  {
   "cell_type": "code",
   "execution_count": 125,
   "id": "peaceful-charter",
   "metadata": {},
   "outputs": [
    {
     "name": "stdout",
     "output_type": "stream",
     "text": [
      "+----+------+------+------+----------+----------------------------------------+----------------+----------------------------+\n",
      "|name|weight|smoker|height|birthdate |phone_nos                               |favorite_colors |address                     |\n",
      "+----+------+------+------+----------+----------------------------------------+----------------+----------------------------+\n",
      "|john|180   |true  |1.7   |1960-01-01|[home -> 223456789, office -> 123456789]|[blue, red]     |[100, street1, city1, 12345]|\n",
      "|tony|180   |true  |1.8   |1990-01-01|[home -> 323456789, office -> 223456789]|[green, purple] |[200, street2, city2, 22345]|\n",
      "|mike|180   |true  |1.65  |1980-01-01|[home -> 423456789, office -> 323456789]|[yellow, orange]|[300, street3, city3, 32345]|\n",
      "+----+------+------+------+----------+----------------------------------------+----------------+----------------------------+\n",
      "\n"
     ]
    }
   ],
   "source": [
    "spark.read.orc(\"data/orcfile_write\").show(3,False)\n"
   ]
  },
  {
   "cell_type": "markdown",
   "id": "statewide-dominican",
   "metadata": {},
   "source": [
    "<a id='15'></a>"
   ]
  },
  {
   "cell_type": "markdown",
   "id": "fatty-purpose",
   "metadata": {},
   "source": [
    "### 2f. Reading from an AVRO file into spark data frame"
   ]
  },
  {
   "cell_type": "code",
   "execution_count": 126,
   "id": "starting-classification",
   "metadata": {},
   "outputs": [
    {
     "name": "stdout",
     "output_type": "stream",
     "text": [
      "+----+---+----+---+----------+---------------------------------------+\n",
      "|_1  |_2 |_3  |_4 |_5        |_6                                     |\n",
      "+----+---+----+---+----------+---------------------------------------+\n",
      "|John|180|true|1.7|1960-01-01|{“home”: 123456789, “office”:234567567}|\n",
      "+----+---+----+---+----------+---------------------------------------+\n",
      "\n"
     ]
    }
   ],
   "source": [
    "#!./bin/spark-submit --packages org.apache.spark:spark-avro_2.12:3.0.2 ...\n",
    "##.config('spark.jars', 'org.apache.spark:spark-avro_2.12:3.0.2')\\\n",
    "import pyspark\n",
    "from pyspark.sql import SparkSession\n",
    "spark = SparkSession \\\n",
    "    .builder \\\n",
    "    .appName(\"Python Spark SQL basic example\") \\\n",
    "    .config('spark.jars.packages', 'org.apache.spark:spark-avro_2.12:3.0.2')\\\n",
    "    .getOrCreate()\n",
    "spark.createDataFrame([(\"John\",180,True, 1.7, \"1960-01-01\", '{“home”: 123456789, “office”:234567567}'),]).show(1,False)        "
   ]
  },
  {
   "cell_type": "code",
   "execution_count": 127,
   "id": "opening-purple",
   "metadata": {},
   "outputs": [
    {
     "name": "stdout",
     "output_type": "stream",
     "text": [
      "+----+------+------+------+----------+----------------------------------------+----------------+----------------------------+\n",
      "|name|weight|smoker|height|birthdate |phone_nos                               |favorite_colors |address                     |\n",
      "+----+------+------+------+----------+----------------------------------------+----------------+----------------------------+\n",
      "|john|180   |true  |1.7   |1960-01-01|[office -> 123456789, home -> 223456789]|[blue, red]     |[100, street1, city1, 12345]|\n",
      "|tony|180   |true  |1.8   |1990-01-01|[office -> 223456789, home -> 323456789]|[green, purple] |[200, street2, city2, 22345]|\n",
      "|mike|180   |true  |1.65  |1980-01-01|[office -> 323456789, home -> 423456789]|[yellow, orange]|[300, street3, city3, 32345]|\n",
      "+----+------+------+------+----------+----------------------------------------+----------------+----------------------------+\n",
      "\n"
     ]
    }
   ],
   "source": [
    "df_avro = spark.read.format(\"avro\").load(\"data/avrofile\")\n",
    "df_avro.show(3,False)"
   ]
  },
  {
   "cell_type": "markdown",
   "id": "beneficial-pillow",
   "metadata": {},
   "source": [
    "#### Saving the spark data frame content into an AVRO  file"
   ]
  },
  {
   "cell_type": "code",
   "execution_count": 128,
   "id": "early-relay",
   "metadata": {},
   "outputs": [],
   "source": [
    "df_avro.write.format(\"avro\").save(\"data/avrofile_write\",mode='overwrite')"
   ]
  },
  {
   "cell_type": "code",
   "execution_count": 129,
   "id": "typical-electricity",
   "metadata": {},
   "outputs": [
    {
     "name": "stdout",
     "output_type": "stream",
     "text": [
      "+----+------+------+------+----------+----------------------------------------+----------------+----------------------------+\n",
      "|name|weight|smoker|height|birthdate |phone_nos                               |favorite_colors |address                     |\n",
      "+----+------+------+------+----------+----------------------------------------+----------------+----------------------------+\n",
      "|john|180   |true  |1.7   |1960-01-01|[office -> 123456789, home -> 223456789]|[blue, red]     |[100, street1, city1, 12345]|\n",
      "|tony|180   |true  |1.8   |1990-01-01|[office -> 223456789, home -> 323456789]|[green, purple] |[200, street2, city2, 22345]|\n",
      "|mike|180   |true  |1.65  |1980-01-01|[office -> 323456789, home -> 423456789]|[yellow, orange]|[300, street3, city3, 32345]|\n",
      "+----+------+------+------+----------+----------------------------------------+----------------+----------------------------+\n",
      "\n"
     ]
    }
   ],
   "source": [
    "spark.read.format(\"avro\").load(\"data/avrofile_write\").show(3,False)"
   ]
  },
  {
   "cell_type": "markdown",
   "id": "contained-buying",
   "metadata": {},
   "source": [
    "<a id='16'></a>"
   ]
  },
  {
   "cell_type": "markdown",
   "id": "intensive-eclipse",
   "metadata": {},
   "source": [
    "### 2g. Reading from an Whole Binary file into spark data frame"
   ]
  },
  {
   "cell_type": "code",
   "execution_count": 130,
   "id": "circular-photography",
   "metadata": {},
   "outputs": [
    {
     "name": "stdout",
     "output_type": "stream",
     "text": [
      "+--------------------+-------------------+------+--------------------+\n",
      "|                path|   modificationTime|length|             content|\n",
      "+--------------------+-------------------+------+--------------------+\n",
      "|file:/Users/deepa...|2021-02-20 22:40:59|339845|[89 50 4E 47 0D 0...|\n",
      "+--------------------+-------------------+------+--------------------+\n",
      "\n"
     ]
    }
   ],
   "source": [
    "spark.read.format(\"binaryFile\").load(\"../images/banner.png\").show()"
   ]
  }
 ],
 "metadata": {
  "kernelspec": {
   "display_name": "Python 3",
   "language": "python",
   "name": "python3"
  },
  "language_info": {
   "codemirror_mode": {
    "name": "ipython",
    "version": 3
   },
   "file_extension": ".py",
   "mimetype": "text/x-python",
   "name": "python",
   "nbconvert_exporter": "python",
   "pygments_lexer": "ipython3",
   "version": "3.8.5"
  }
 },
 "nbformat": 4,
 "nbformat_minor": 5
}
