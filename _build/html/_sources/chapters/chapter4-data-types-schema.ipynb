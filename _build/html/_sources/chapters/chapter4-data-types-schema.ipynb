{
 "cells": [
  {
   "cell_type": "markdown",
   "id": "radio-motorcycle",
   "metadata": {},
   "source": [
    "```{figure} ../images/banner.png\n",
    "---\n",
    "align: center\n",
    "name: banner\n",
    "---\n",
    "```"
   ]
  },
  {
   "cell_type": "markdown",
   "id": "miniature-charm",
   "metadata": {},
   "source": [
    "# Chapter 4 : Data Types & Schema"
   ]
  },
  {
   "cell_type": "markdown",
   "id": "wrong-isolation",
   "metadata": {},
   "source": [
    "## Chapter Learning Objectives"
   ]
  },
  {
   "cell_type": "markdown",
   "id": "amended-fireplace",
   "metadata": {},
   "source": [
    "- Various Data types in Spark. \n",
    "- Use of Schema. "
   ]
  },
  {
   "cell_type": "markdown",
   "id": "framed-accessory",
   "metadata": {},
   "source": [
    "## Chapter Outline\n",
    "\n",
    "- [1. Various data types ](#1)\n",
    "    - [1a. How to get the data type of a column/data frame?](#2)\n",
    "    - [1b. How to change the data type of a column?](#3)\n",
    "- [2. Various Schema operations](#4)\n",
    "    - [2a. How to get the schema of a data frame?](#5)\n",
    "    - [2b. How to define a schema?](#6)\n",
    "    - [2c. How to use the schema?](#7)\n",
    "    - [2d. How to save the schema?](#8)\n",
    "    - [2e. How to load the saved schema?](#9)\n",
    "    - [2f. How to get the names of all fields in the schema?](#10)"
   ]
  },
  {
   "cell_type": "code",
   "execution_count": 104,
   "id": "voluntary-amateur",
   "metadata": {
    "tags": [
     "hide_input"
    ]
   },
   "outputs": [],
   "source": [
    "# import panel as pn\n",
    "# css = \"\"\"\n",
    "# div.special_table + table, th, td {\n",
    "#   border: 3px solid orange;\n",
    "# }\n",
    "# \"\"\"\n",
    "# pn.extension(raw_css=[css])\n",
    "import pyspark\n",
    "from pyspark.sql import SparkSession\n",
    "spark = SparkSession \\\n",
    "    .builder \\\n",
    "    .appName(\"Python Spark SQL basic example\") \\\n",
    "    .config(\"spark.some.config.option\", \"some-value\") \\\n",
    "    .getOrCreate()\n",
    "from IPython.display import display_html\n",
    "import pandas as pd \n",
    "import numpy as np\n",
    "def display_side_by_side(*args,space):\n",
    "    html_str=''\n",
    "    for df in args:\n",
    "        html_str+=df.to_html(index=False)\n",
    "        html_str+= \"\\xa0\\xa0\\xa0\"*space\n",
    "    display_html(html_str.replace('table','table style=\"display:inline\"'),raw=True)\n",
    "space = \"\\xa0\" * 10"
   ]
  },
  {
   "cell_type": "markdown",
   "id": "selected-eagle",
   "metadata": {},
   "source": [
    "<a id='1'></a>"
   ]
  },
  {
   "cell_type": "markdown",
   "id": "impossible-listening",
   "metadata": {},
   "source": [
    "### Common data types in spark\n",
    "\n",
    "\n",
    "\n",
    "\n",
    "<b>Numeric types</b>\n",
    "\n",
    "| Name          | Description  | Example |                               \n",
    "| :-------------------- | :--------- | :------------- | \n",
    "| IntegerType              | Represents 4-byte signed integer numbers.        |64   |                      \n",
    "| LongType |Represents 8-byte signed integer numbers   | 1000  |                 |                                \n",
    "| FloatType              |Represents 4-byte single-precision floating point numbers.    | 1000.45 |               \n",
    "| DoubleType              |Represents 8-byte double-precision floating point numbers.    | 10000000.45 |    \n",
    "                        \n",
    "                        \n",
    "<b>String type</b>\n",
    "\n",
    "| Name          | Description  | Example |                               \n",
    "| :-------------------- | :--------- | :------------- |\n",
    "| StringType              |Represents character string values.       |\"tony\"   |                      \n",
    "\n",
    "<b>Boolean type</b>\n",
    "\n",
    "| Name          | Description  | Example |                               \n",
    "| :-------------------- | :--------- | :------------- |\n",
    "| BooleanType              |Represents boolean values.        |\"true\"   | \n",
    "\n",
    "<b>Datetime type</b>\n",
    "\n",
    "| Name          | Description  | Example |                               \n",
    "| :-------------------- | :--------- | :------------- |\n",
    "| TimestampType             |Represents values comprising values of fields year, month, day, hour, minute, and second, with the session local time-zone. The timestamp value represents an absolute point in time       |2019-11-03 05:30:00 UTC-05:00   | \n",
    "| DateType             |Represents values comprising values of fields year, month and day, without a time-zone.       |2019-11-03  | \n",
    "\n",
    "\n",
    "<b>Complex types</b>\n",
    "\n",
    "| Name          | Definition  | Description | Example |                               \n",
    "| :-------------------- | :--------- | :------------- |:------------- |\n",
    "| ArrayType             |ArrayType(elementType, containsNull)       |Represents values comprising a sequence of elements with the type of elementType. containsNull is used to indicate if elements in a ArrayType value can have null values.  | [\"tony\",\"kent\", \"mike\"]   |\n",
    "| MapType              |MapType(keyType, valueType, valueContainsNull):      | Represents values comprising a set of key-value pairs. The data type of keys is described by keyType and the data type of values is described by valueType. For a MapType value, keys are not allowed to have null values. valueContainsNull is used to indicate if values of a MapType value can have null values.   |  {\"name\":\"tony\"}  |\n",
    "| StructType              |StructType(fields)       |Represents values with the structure described by a sequence of StructFields (fields).StructField(name, dataType, nullable): Represents a field in a StructType. The name of a field is indicated by name. The data type of a field is indicated by dataType. nullable is used to indicate if values of these fields can have null values.   |   {\"name\":\"tony\",\"age\":30,\"city\":\"\"seattle\"}    |"
   ]
  },
  {
   "cell_type": "markdown",
   "id": "weekly-miami",
   "metadata": {},
   "source": [
    "<a id='2'></a>"
   ]
  },
  {
   "cell_type": "markdown",
   "id": "third-kidney",
   "metadata": {},
   "source": [
    "## 1a.  How to get the data type of a column/data frame?\n",
    "\n"
   ]
  },
  {
   "cell_type": "markdown",
   "id": "opposite-adaptation",
   "metadata": {},
   "source": [
    "Lets first understand the syntax\n",
    "\n",
    "```{admonition} Syntax\n",
    "<b>pyspark.sql.DataFrame.dtypes</b>\n",
    "\n",
    "Returns all column names and their data types as a list.\n",
    "\n",
    "'''"
   ]
  },
  {
   "cell_type": "markdown",
   "id": "macro-publicity",
   "metadata": {},
   "source": [
    "<b>Input:  Spark data frame</b>"
   ]
  },
  {
   "cell_type": "code",
   "execution_count": 105,
   "id": "operational-modern",
   "metadata": {},
   "outputs": [
    {
     "name": "stdout",
     "output_type": "stream",
     "text": [
      "+----+---+------+------+----------+\n",
      "|name|age|smoker|height| birthdate|\n",
      "+----+---+------+------+----------+\n",
      "|John| 60|  true|   1.7|1960-01-01|\n",
      "|Tony| 30| false|   1.8|1990-01-01|\n",
      "|Mike| 40|  true|  1.65|1980-01-01|\n",
      "+----+---+------+------+----------+\n",
      "\n"
     ]
    }
   ],
   "source": [
    "df_mul = spark.createDataFrame([('John',  60, True, 1.7, '1960-01-01'), \n",
    "('Tony', 30, False, 1.8, '1990-01-01'), \n",
    "('Mike',  40, True, 1.65, '1980-01-01')],['name',  'age', 'smoker','height', 'birthdate'])\n",
    "df_mul.show()"
   ]
  },
  {
   "cell_type": "markdown",
   "id": "great-democracy",
   "metadata": {},
   "source": [
    "<b>Output :  Spark data frame column types</b>"
   ]
  },
  {
   "cell_type": "code",
   "execution_count": 106,
   "id": "electric-longitude",
   "metadata": {},
   "outputs": [
    {
     "data": {
      "text/plain": [
       "[('name', 'string'),\n",
       " ('age', 'bigint'),\n",
       " ('smoker', 'boolean'),\n",
       " ('height', 'double'),\n",
       " ('birthdate', 'string')]"
      ]
     },
     "execution_count": 106,
     "metadata": {},
     "output_type": "execute_result"
    }
   ],
   "source": [
    "df_mul.dtypes"
   ]
  },
  {
   "cell_type": "markdown",
   "id": "allied-tourism",
   "metadata": {},
   "source": [
    "<b> Summary:</b>"
   ]
  },
  {
   "cell_type": "code",
   "execution_count": 107,
   "id": "expired-tourist",
   "metadata": {
    "tags": [
     "hide_input"
    ]
   },
   "outputs": [
    {
     "name": "stdout",
     "output_type": "stream",
     "text": [
      "Input                                         Output\n"
     ]
    },
    {
     "data": {
      "text/html": [
       "<table style=\"display:inline\" border=\"1\" class=\"dataframe\">\n",
       "  <thead>\n",
       "    <tr style=\"text-align: right;\">\n",
       "      <th>name</th>\n",
       "      <th>age</th>\n",
       "      <th>smoker</th>\n",
       "      <th>height</th>\n",
       "      <th>birthdate</th>\n",
       "    </tr>\n",
       "  </thead>\n",
       "  <tbody>\n",
       "    <tr>\n",
       "      <td>John</td>\n",
       "      <td>60</td>\n",
       "      <td>True</td>\n",
       "      <td>1.70</td>\n",
       "      <td>1960-01-01</td>\n",
       "    </tr>\n",
       "    <tr>\n",
       "      <td>Tony</td>\n",
       "      <td>30</td>\n",
       "      <td>False</td>\n",
       "      <td>1.80</td>\n",
       "      <td>1990-01-01</td>\n",
       "    </tr>\n",
       "    <tr>\n",
       "      <td>Mike</td>\n",
       "      <td>40</td>\n",
       "      <td>True</td>\n",
       "      <td>1.65</td>\n",
       "      <td>1980-01-01</td>\n",
       "    </tr>\n",
       "  </tbody>\n",
       "</table style=\"display:inline\">   <table style=\"display:inline\" border=\"1\" class=\"dataframe\">\n",
       "  <thead>\n",
       "    <tr style=\"text-align: right;\">\n",
       "      <th>.</th>\n",
       "    </tr>\n",
       "  </thead>\n",
       "  <tbody>\n",
       "    <tr>\n",
       "      <td>[('name', 'string'), ('age', 'bigint'), ('smoker', 'boolean'), ('height', 'double'), ('birthdate', 'string')]</td>\n",
       "    </tr>\n",
       "  </tbody>\n",
       "</table style=\"display:inline\">   "
      ]
     },
     "metadata": {},
     "output_type": "display_data"
    }
   ],
   "source": [
    "print(\"Input                                        \",            \"Output\")\n",
    "display_side_by_side(df_mul.toPandas(),pd.DataFrame([str(df_mul.dtypes[0:6])],columns=[\".\"]),space=1)"
   ]
  },
  {
   "cell_type": "markdown",
   "id": "hispanic-effort",
   "metadata": {},
   "source": [
    "<a id='3'></a>"
   ]
  },
  {
   "cell_type": "markdown",
   "id": "ultimate-result",
   "metadata": {},
   "source": [
    "## 1b. How to change the data type of a column?\n",
    "\n"
   ]
  },
  {
   "cell_type": "markdown",
   "id": "better-hours",
   "metadata": {},
   "source": [
    "Lets first understand the syntax\n",
    "\n",
    "```{admonition} Syntax\n",
    "<b>pyspark.sql.Column.cast </b>\n",
    "\n",
    "Convert the column into type dataType.\n",
    "\n",
    "\n",
    "'''"
   ]
  },
  {
   "cell_type": "markdown",
   "id": "specified-software",
   "metadata": {},
   "source": [
    "<b>Input:  Spark data frame with a column \"age\" of integer type</b>"
   ]
  },
  {
   "cell_type": "code",
   "execution_count": 108,
   "id": "lesbian-constant",
   "metadata": {},
   "outputs": [
    {
     "name": "stdout",
     "output_type": "stream",
     "text": [
      "+----+---+------+------+\n",
      "|name|age|smoker|height|\n",
      "+----+---+------+------+\n",
      "|John| 60|  true|   1.7|\n",
      "|Tony| 30| false|   1.8|\n",
      "|Mike| 40|  true|  1.65|\n",
      "+----+---+------+------+\n",
      "\n"
     ]
    }
   ],
   "source": [
    "df_mul = spark.createDataFrame([('John',  60, True, 1.7), \n",
    "('Tony', 30, False, 1.8, ), \n",
    "('Mike',  40, True, 1.65, )],['name',  'age', 'smoker','height'])\n",
    "df_mul.show()"
   ]
  },
  {
   "cell_type": "code",
   "execution_count": 109,
   "id": "dominican-piano",
   "metadata": {},
   "outputs": [
    {
     "data": {
      "text/plain": [
       "[('name', 'string'),\n",
       " ('age', 'bigint'),\n",
       " ('smoker', 'boolean'),\n",
       " ('height', 'double')]"
      ]
     },
     "execution_count": 109,
     "metadata": {},
     "output_type": "execute_result"
    }
   ],
   "source": [
    "df_mul.dtypes"
   ]
  },
  {
   "cell_type": "markdown",
   "id": "assured-guinea",
   "metadata": {},
   "source": [
    "<b>Output :  Spark data frame with a column with a split string</b>"
   ]
  },
  {
   "cell_type": "code",
   "execution_count": 110,
   "id": "recent-hurricane",
   "metadata": {},
   "outputs": [
    {
     "name": "stdout",
     "output_type": "stream",
     "text": [
      "+----+---+------+------+\n",
      "|name|age|smoker|height|\n",
      "+----+---+------+------+\n",
      "|John| 60|  true|   1.7|\n",
      "|Tony| 30| false|   1.8|\n",
      "|Mike| 40|  true|  1.65|\n",
      "+----+---+------+------+\n",
      "\n"
     ]
    }
   ],
   "source": [
    "df_cast = df_mul.select(\"name\",df_mul.age.cast(\"string\").alias('age'), \"smoker\", \"height\")\n",
    "df_cast.show()"
   ]
  },
  {
   "cell_type": "code",
   "execution_count": 111,
   "id": "tested-charleston",
   "metadata": {},
   "outputs": [
    {
     "data": {
      "text/plain": [
       "[('name', 'string'),\n",
       " ('age', 'string'),\n",
       " ('smoker', 'boolean'),\n",
       " ('height', 'double')]"
      ]
     },
     "execution_count": 111,
     "metadata": {},
     "output_type": "execute_result"
    }
   ],
   "source": [
    "df_cast.dtypes"
   ]
  },
  {
   "cell_type": "markdown",
   "id": "dressed-bunch",
   "metadata": {},
   "source": [
    "<b> Summary:</b>"
   ]
  },
  {
   "cell_type": "code",
   "execution_count": 112,
   "id": "conscious-turkey",
   "metadata": {
    "tags": [
     "hide_input"
    ]
   },
   "outputs": [
    {
     "name": "stdout",
     "output_type": "stream",
     "text": [
      "Input                                                        Output\n"
     ]
    },
    {
     "data": {
      "text/html": [
       "<table style=\"display:inline\" border=\"1\" class=\"dataframe\">\n",
       "  <thead>\n",
       "    <tr style=\"text-align: right;\">\n",
       "      <th>name</th>\n",
       "      <th>age</th>\n",
       "      <th>smoker</th>\n",
       "      <th>height</th>\n",
       "    </tr>\n",
       "  </thead>\n",
       "  <tbody>\n",
       "    <tr>\n",
       "      <td>John</td>\n",
       "      <td>60</td>\n",
       "      <td>True</td>\n",
       "      <td>1.70</td>\n",
       "    </tr>\n",
       "    <tr>\n",
       "      <td>Tony</td>\n",
       "      <td>30</td>\n",
       "      <td>False</td>\n",
       "      <td>1.80</td>\n",
       "    </tr>\n",
       "    <tr>\n",
       "      <td>Mike</td>\n",
       "      <td>40</td>\n",
       "      <td>True</td>\n",
       "      <td>1.65</td>\n",
       "    </tr>\n",
       "  </tbody>\n",
       "</table style=\"display:inline\">                                                                           <table style=\"display:inline\" border=\"1\" class=\"dataframe\">\n",
       "  <thead>\n",
       "    <tr style=\"text-align: right;\">\n",
       "      <th>name</th>\n",
       "      <th>age</th>\n",
       "      <th>smoker</th>\n",
       "      <th>height</th>\n",
       "    </tr>\n",
       "  </thead>\n",
       "  <tbody>\n",
       "    <tr>\n",
       "      <td>John</td>\n",
       "      <td>60</td>\n",
       "      <td>True</td>\n",
       "      <td>1.70</td>\n",
       "    </tr>\n",
       "    <tr>\n",
       "      <td>Tony</td>\n",
       "      <td>30</td>\n",
       "      <td>False</td>\n",
       "      <td>1.80</td>\n",
       "    </tr>\n",
       "    <tr>\n",
       "      <td>Mike</td>\n",
       "      <td>40</td>\n",
       "      <td>True</td>\n",
       "      <td>1.65</td>\n",
       "    </tr>\n",
       "  </tbody>\n",
       "</table style=\"display:inline\">                                                                           "
      ]
     },
     "metadata": {},
     "output_type": "display_data"
    },
    {
     "name": "stdout",
     "output_type": "stream",
     "text": [
      "Data types                                                       Data types\n"
     ]
    },
    {
     "data": {
      "text/html": [
       "<table style=\"display:inline\" border=\"1\" class=\"dataframe\">\n",
       "  <thead>\n",
       "    <tr style=\"text-align: right;\">\n",
       "      <th>.</th>\n",
       "    </tr>\n",
       "  </thead>\n",
       "  <tbody>\n",
       "    <tr>\n",
       "      <td>[('name', 'string'), ('age', 'bigint'), ('smoker', 'boolean'), ('height', 'double')]</td>\n",
       "    </tr>\n",
       "  </tbody>\n",
       "</table style=\"display:inline\">               <table style=\"display:inline\" border=\"1\" class=\"dataframe\">\n",
       "  <thead>\n",
       "    <tr style=\"text-align: right;\">\n",
       "      <th>.</th>\n",
       "    </tr>\n",
       "  </thead>\n",
       "  <tbody>\n",
       "    <tr>\n",
       "      <td>[('name', 'string'), ('age', 'string'), ('smoker', 'boolean'), ('height', 'double')]</td>\n",
       "    </tr>\n",
       "  </tbody>\n",
       "</table style=\"display:inline\">               "
      ]
     },
     "metadata": {},
     "output_type": "display_data"
    }
   ],
   "source": [
    "print(\"Input                                                       \",            \"Output\")\n",
    "display_side_by_side(df_mul.toPandas(),df_cast.toPandas(),space=25)\n",
    "print(\"Data types                                                      \",            \"Data types\")\n",
    "display_side_by_side(pd.DataFrame([str(df_mul.dtypes)],columns=[\".\"]),pd.DataFrame([str(df_cast.dtypes)],columns=[\".\"]),space=5)"
   ]
  },
  {
   "cell_type": "markdown",
   "id": "dying-drill",
   "metadata": {},
   "source": [
    "<a id='4'></a>"
   ]
  },
  {
   "cell_type": "markdown",
   "id": "respective-lobby",
   "metadata": {},
   "source": [
    "## what is  Schema ?\n",
    "A schema is the description of the structure of your data "
   ]
  },
  {
   "cell_type": "markdown",
   "id": "physical-hypothetical",
   "metadata": {},
   "source": [
    "<a id='5'></a>"
   ]
  },
  {
   "cell_type": "markdown",
   "id": "corrected-disorder",
   "metadata": {},
   "source": [
    "## 2a. How to get the schema of a data frame?\n"
   ]
  },
  {
   "cell_type": "markdown",
   "id": "afraid-level",
   "metadata": {},
   "source": [
    "Lets first understand the syntax\n",
    "\n",
    "Converts a string expression to upper case.\n",
    "\n",
    "```{admonition} Syntax\n",
    "<b>pyspark.sql.DataFrame.schema</b>\n",
    "Returns the schema of this DataFrame as a pyspark.sql.types.StructType.\n",
    "\n",
    "'''"
   ]
  },
  {
   "cell_type": "markdown",
   "id": "thousand-password",
   "metadata": {},
   "source": [
    "<b>Input:  Spark data frame </b>"
   ]
  },
  {
   "cell_type": "code",
   "execution_count": 113,
   "id": "opposite-chart",
   "metadata": {},
   "outputs": [
    {
     "name": "stdout",
     "output_type": "stream",
     "text": [
      "+----+---------+---+------+------+----------+\n",
      "|name|     city|age|smoker|height| birthdate|\n",
      "+----+---------+---+------+------+----------+\n",
      "|John|  Seattle| 60|  true|   1.7|1960-01-01|\n",
      "|Tony|Cupertino| 30| false|   1.8|1990-01-01|\n",
      "|Mike| New York| 40|  true|  1.65|1980-01-01|\n",
      "+----+---------+---+------+------+----------+\n",
      "\n"
     ]
    }
   ],
   "source": [
    "df_mul = spark.createDataFrame([('John', 'Seattle', 60, True, 1.7, '1960-01-01'), \n",
    "('Tony', 'Cupertino', 30, False, 1.8, '1990-01-01'), \n",
    "('Mike', 'New York', 40, True, 1.65, '1980-01-01')],['name', 'city', 'age', 'smoker','height', 'birthdate'])\n",
    "df_mul.show()"
   ]
  },
  {
   "cell_type": "markdown",
   "id": "impossible-robinson",
   "metadata": {},
   "source": [
    "<b>Output :  Schema of Spark data frame</b>"
   ]
  },
  {
   "cell_type": "code",
   "execution_count": 114,
   "id": "efficient-small",
   "metadata": {},
   "outputs": [
    {
     "data": {
      "text/plain": [
       "StructType(List(StructField(name,StringType,true),StructField(city,StringType,true),StructField(age,LongType,true),StructField(smoker,BooleanType,true),StructField(height,DoubleType,true),StructField(birthdate,StringType,true)))"
      ]
     },
     "execution_count": 114,
     "metadata": {},
     "output_type": "execute_result"
    }
   ],
   "source": [
    "df_mul.schema"
   ]
  },
  {
   "cell_type": "markdown",
   "id": "soviet-lottery",
   "metadata": {},
   "source": [
    "### How to print the schema in a tree format?"
   ]
  },
  {
   "cell_type": "code",
   "execution_count": 115,
   "id": "matched-material",
   "metadata": {},
   "outputs": [
    {
     "name": "stdout",
     "output_type": "stream",
     "text": [
      "root\n",
      " |-- name: string (nullable = true)\n",
      " |-- city: string (nullable = true)\n",
      " |-- age: long (nullable = true)\n",
      " |-- smoker: boolean (nullable = true)\n",
      " |-- height: double (nullable = true)\n",
      " |-- birthdate: string (nullable = true)\n",
      "\n"
     ]
    }
   ],
   "source": [
    "df_mul.printSchema()"
   ]
  },
  {
   "cell_type": "markdown",
   "id": "sonic-humanitarian",
   "metadata": {},
   "source": [
    "<a id='6'></a>"
   ]
  },
  {
   "cell_type": "markdown",
   "id": "silent-summer",
   "metadata": {},
   "source": [
    "## 2b. How to define a schema?"
   ]
  },
  {
   "cell_type": "markdown",
   "id": "absolute-search",
   "metadata": {},
   "source": [
    "Lets first understand the syntax\n",
    "\n",
    "```{admonition} Syntax\n",
    "\n",
    "<b>pyspark.sql.functions.slice(x, start, length)</b>\n",
    "\n",
    "Collection function: returns an array containing all the elements in x from index start (array indices start at 1, or from the end if start is negative) with the specified length.\n",
    "\n",
    "<b>Parameters</b>:\n",
    "\n",
    "- x : the array to be sliced\n",
    "\n",
    "- start : the starting index\n",
    "\n",
    "- length : the length of the slice\n",
    "'''"
   ]
  },
  {
   "cell_type": "markdown",
   "id": "comfortable-plane",
   "metadata": {},
   "source": [
    "#### Example#1"
   ]
  },
  {
   "cell_type": "code",
   "execution_count": 116,
   "id": "cubic-literacy",
   "metadata": {},
   "outputs": [
    {
     "data": {
      "text/plain": [
       "StructType(List(StructField(name,StringType,true),StructField(city,StringType,true),StructField(age,IntegerType,true),StructField(smoker,BooleanType,true),StructField(height,FloatType,true),StructField(birthdate,StringType,true)))"
      ]
     },
     "execution_count": 116,
     "metadata": {},
     "output_type": "execute_result"
    }
   ],
   "source": [
    "from pyspark.sql.types import *\n",
    "\n",
    "schema1 = StructType([\n",
    "StructField(\"name\", StringType(), True), \n",
    "StructField(\"city\", StringType(), True), \n",
    "StructField(\"age\", IntegerType(), True), \n",
    "StructField(\"smoker\", BooleanType(), True), \n",
    "StructField(\"height\", FloatType(), True), \n",
    "StructField(\"birthdate\", StringType(), True), \n",
    "])\n",
    "schema1"
   ]
  },
  {
   "cell_type": "code",
   "execution_count": 117,
   "id": "authentic-malpractice",
   "metadata": {},
   "outputs": [
    {
     "data": {
      "text/plain": [
       "['name', 'city', 'age', 'smoker', 'height', 'birthdate']"
      ]
     },
     "execution_count": 117,
     "metadata": {},
     "output_type": "execute_result"
    }
   ],
   "source": [
    "schema1.fieldNames()"
   ]
  },
  {
   "cell_type": "markdown",
   "id": "egyptian-designation",
   "metadata": {},
   "source": [
    "#### Example#2"
   ]
  },
  {
   "cell_type": "code",
   "execution_count": 118,
   "id": "refined-mobile",
   "metadata": {},
   "outputs": [
    {
     "name": "stdout",
     "output_type": "stream",
     "text": [
      "StructType(List(StructField(name,StringType,true),StructField(weight,LongType,true),StructField(smoker,BooleanType,true),StructField(height,DoubleType,true),StructField(birthdate,StringType,true),StructField(phone_nos,MapType(StringType,LongType,true),true),StructField(favorite_colors,ArrayType(StringType,true),true),StructField(address,StructType(List(StructField(houseno,IntegerType,true),StructField(street,StringType,true),StructField(city,StringType,true),StructField(zipcode,IntegerType,true))),true)))\n"
     ]
    }
   ],
   "source": [
    "schema2 = StructType([\n",
    "    StructField(\"name\", StringType()),\n",
    "    StructField(\"weight\", LongType()),\n",
    "    StructField(\"smoker\", BooleanType()),\n",
    "    StructField(\"height\", DoubleType()),\n",
    "    StructField(\"birthdate\", StringType()),\n",
    "    StructField(\"phone_nos\", MapType(StringType(),LongType(),True),True),  \n",
    "    StructField(\"favorite_colors\", ArrayType(StringType(),True),True),  \n",
    "    StructField(\"address\", StructType([\n",
    "    StructField(\"houseno\", IntegerType(),True),\n",
    "    StructField(\"street\", StringType(),True),\n",
    "    StructField(\"city\", StringType(),True),\n",
    "    StructField(\"zipcode\", IntegerType(),True),\n",
    "    ])) \n",
    "    \n",
    "])\n",
    "print(schema2)\n"
   ]
  },
  {
   "cell_type": "code",
   "execution_count": 119,
   "id": "accompanied-police",
   "metadata": {},
   "outputs": [
    {
     "data": {
      "text/plain": [
       "['name',\n",
       " 'weight',\n",
       " 'smoker',\n",
       " 'height',\n",
       " 'birthdate',\n",
       " 'phone_nos',\n",
       " 'favorite_colors',\n",
       " 'address']"
      ]
     },
     "execution_count": 119,
     "metadata": {},
     "output_type": "execute_result"
    }
   ],
   "source": [
    "schema2.fieldNames()\n"
   ]
  },
  {
   "cell_type": "markdown",
   "id": "received-gabriel",
   "metadata": {},
   "source": [
    "<a id='7'></a>"
   ]
  },
  {
   "cell_type": "markdown",
   "id": "chronic-belly",
   "metadata": {},
   "source": [
    "##  2c. How to use the schema?"
   ]
  },
  {
   "cell_type": "code",
   "execution_count": 120,
   "id": "chronic-avenue",
   "metadata": {},
   "outputs": [
    {
     "name": "stdout",
     "output_type": "stream",
     "text": [
      "root\n",
      " |-- name: string (nullable = true)\n",
      " |-- weight: long (nullable = true)\n",
      " |-- smoker: boolean (nullable = true)\n",
      " |-- height: double (nullable = true)\n",
      " |-- birthdate: string (nullable = true)\n",
      " |-- phone_nos: map (nullable = true)\n",
      " |    |-- key: string\n",
      " |    |-- value: long (valueContainsNull = true)\n",
      " |-- favorite_colors: array (nullable = true)\n",
      " |    |-- element: string (containsNull = true)\n",
      " |-- address: struct (nullable = true)\n",
      " |    |-- houseno: integer (nullable = true)\n",
      " |    |-- street: string (nullable = true)\n",
      " |    |-- city: string (nullable = true)\n",
      " |    |-- zipcode: integer (nullable = true)\n",
      "\n"
     ]
    },
    {
     "data": {
      "text/html": [
       "<div>\n",
       "<style scoped>\n",
       "    .dataframe tbody tr th:only-of-type {\n",
       "        vertical-align: middle;\n",
       "    }\n",
       "\n",
       "    .dataframe tbody tr th {\n",
       "        vertical-align: top;\n",
       "    }\n",
       "\n",
       "    .dataframe thead th {\n",
       "        text-align: right;\n",
       "    }\n",
       "</style>\n",
       "<table border=\"1\" class=\"dataframe\">\n",
       "  <thead>\n",
       "    <tr style=\"text-align: right;\">\n",
       "      <th></th>\n",
       "      <th>name</th>\n",
       "      <th>weight</th>\n",
       "      <th>smoker</th>\n",
       "      <th>height</th>\n",
       "      <th>birthdate</th>\n",
       "      <th>phone_nos</th>\n",
       "      <th>favorite_colors</th>\n",
       "      <th>address</th>\n",
       "    </tr>\n",
       "  </thead>\n",
       "  <tbody>\n",
       "    <tr>\n",
       "      <th>0</th>\n",
       "      <td>john</td>\n",
       "      <td>180</td>\n",
       "      <td>True</td>\n",
       "      <td>1.70</td>\n",
       "      <td>1960-01-01</td>\n",
       "      <td>{'office': 123456789, 'home': 223456789}</td>\n",
       "      <td>[blue, red]</td>\n",
       "      <td>(100, street1, city1, 12345)</td>\n",
       "    </tr>\n",
       "    <tr>\n",
       "      <th>1</th>\n",
       "      <td>tony</td>\n",
       "      <td>180</td>\n",
       "      <td>True</td>\n",
       "      <td>1.80</td>\n",
       "      <td>1990-01-01</td>\n",
       "      <td>{'office': 223456789, 'home': 323456789}</td>\n",
       "      <td>[green, purple]</td>\n",
       "      <td>(200, street2, city2, 22345)</td>\n",
       "    </tr>\n",
       "    <tr>\n",
       "      <th>2</th>\n",
       "      <td>mike</td>\n",
       "      <td>180</td>\n",
       "      <td>True</td>\n",
       "      <td>1.65</td>\n",
       "      <td>1980-01-01</td>\n",
       "      <td>{'office': 323456789, 'home': 423456789}</td>\n",
       "      <td>[yellow, orange]</td>\n",
       "      <td>(300, street3, city3, 32345)</td>\n",
       "    </tr>\n",
       "  </tbody>\n",
       "</table>\n",
       "</div>"
      ],
      "text/plain": [
       "   name  weight  smoker  height   birthdate  \\\n",
       "0  john     180    True    1.70  1960-01-01   \n",
       "1  tony     180    True    1.80  1990-01-01   \n",
       "2  mike     180    True    1.65  1980-01-01   \n",
       "\n",
       "                                  phone_nos   favorite_colors  \\\n",
       "0  {'office': 123456789, 'home': 223456789}       [blue, red]   \n",
       "1  {'office': 223456789, 'home': 323456789}   [green, purple]   \n",
       "2  {'office': 323456789, 'home': 423456789}  [yellow, orange]   \n",
       "\n",
       "                        address  \n",
       "0  (100, street1, city1, 12345)  \n",
       "1  (200, street2, city2, 22345)  \n",
       "2  (300, street3, city3, 32345)  "
      ]
     },
     "execution_count": 120,
     "metadata": {},
     "output_type": "execute_result"
    }
   ],
   "source": [
    "from pyspark.sql.types import *\n",
    "from pyspark.sql import functions as func\n",
    "schema = StructType([\n",
    "    StructField(\"name\", StringType()),\n",
    "    StructField(\"weight\", LongType()),\n",
    "    StructField(\"smoker\", BooleanType()),\n",
    "    StructField(\"height\", DoubleType()),\n",
    "    StructField(\"birthdate\", StringType()),\n",
    "    StructField(\"phone_nos\", MapType(StringType(),LongType(),True),True),  \n",
    "    StructField(\"favorite_colors\", ArrayType(StringType(),True),True),  \n",
    "    StructField(\"address\", StructType([\n",
    "    StructField(\"houseno\", IntegerType(),True),\n",
    "    StructField(\"street\", StringType(),True),\n",
    "    StructField(\"city\", StringType(),True),\n",
    "    StructField(\"zipcode\", IntegerType(),True),\n",
    "    ])) \n",
    "    \n",
    "])\n",
    "\n",
    "df = spark.createDataFrame((\n",
    "    [[\"john\",180,True,1.7,'1960-01-01',{'office': 123456789, 'home': 223456789},[\"blue\",\"red\"],(100,'street1','city1',12345)],\n",
    "    [\"tony\",180,True,1.8,'1990-01-01',{'office': 223456789, 'home': 323456789},[\"green\",\"purple\"],(200,'street2','city2',22345)],\n",
    "    [\"mike\",180,True,1.65,'1980-01-01',{'office': 323456789, 'home': 423456789},[\"yellow\",\"orange\"],(300,'street3','city3',32345)]]\n",
    "),schema=schema)\n",
    "df.toPandas()#(3,False)\n",
    "df.printSchema()\n",
    "df.toPandas()"
   ]
  },
  {
   "cell_type": "markdown",
   "id": "designing-romania",
   "metadata": {},
   "source": [
    "<a id='8'></a>"
   ]
  },
  {
   "cell_type": "markdown",
   "id": "executed-thesis",
   "metadata": {},
   "source": [
    "## 2d. How to save the schema?"
   ]
  },
  {
   "cell_type": "code",
   "execution_count": 121,
   "id": "personalized-doctrine",
   "metadata": {},
   "outputs": [
    {
     "name": "stdout",
     "output_type": "stream",
     "text": [
      "root\n",
      " |-- name: string (nullable = true)\n",
      " |-- weight: long (nullable = true)\n",
      " |-- smoker: boolean (nullable = true)\n",
      " |-- height: double (nullable = true)\n",
      " |-- birthdate: string (nullable = true)\n",
      " |-- phone_nos: map (nullable = true)\n",
      " |    |-- key: string\n",
      " |    |-- value: long (valueContainsNull = true)\n",
      " |-- favorite_colors: array (nullable = true)\n",
      " |    |-- element: string (containsNull = true)\n",
      " |-- address: struct (nullable = true)\n",
      " |    |-- houseno: integer (nullable = true)\n",
      " |    |-- street: string (nullable = true)\n",
      " |    |-- city: string (nullable = true)\n",
      " |    |-- zipcode: integer (nullable = true)\n",
      "\n"
     ]
    }
   ],
   "source": [
    "df = spark.createDataFrame((\n",
    "    [[\"john\",180,True,1.7,'1960-01-01',{'office': 123456789, 'home': 223456789},[\"blue\",\"red\"],(100,'street1','city1',12345)],\n",
    "    [\"tony\",180,True,1.8,'1990-01-01',{'office': 223456789, 'home': 323456789},[\"green\",\"purple\"],(200,'street2','city2',22345)],\n",
    "    [\"mike\",180,True,1.65,'1980-01-01',{'office': 323456789, 'home': 423456789},[\"yellow\",\"orange\"],(300,'street3','city3',32345)]]\n",
    "),schema=schema)\n",
    "df.printSchema()"
   ]
  },
  {
   "cell_type": "code",
   "execution_count": 122,
   "id": "clean-angel",
   "metadata": {},
   "outputs": [
    {
     "data": {
      "text/plain": [
       "StructType(List(StructField(name,StringType,true),StructField(weight,LongType,true),StructField(smoker,BooleanType,true),StructField(height,DoubleType,true),StructField(birthdate,StringType,true),StructField(phone_nos,MapType(StringType,LongType,true),true),StructField(favorite_colors,ArrayType(StringType,true),true),StructField(address,StructType(List(StructField(houseno,IntegerType,true),StructField(street,StringType,true),StructField(city,StringType,true),StructField(zipcode,IntegerType,true))),true)))"
      ]
     },
     "execution_count": 122,
     "metadata": {},
     "output_type": "execute_result"
    }
   ],
   "source": [
    "df.schema"
   ]
  },
  {
   "cell_type": "code",
   "execution_count": 123,
   "id": "marine-seven",
   "metadata": {},
   "outputs": [],
   "source": [
    "spark.conf.set(\"spark.hadoop.validateOutputSpecs\", \"false\")\n",
    "rdd_schema = spark.sparkContext.parallelize(df.schema)\n",
    "#rdd_schema.coalesce(1).saveAsPickleFile(\"data/text/schema_file\")"
   ]
  },
  {
   "cell_type": "markdown",
   "id": "placed-humanitarian",
   "metadata": {},
   "source": [
    "<a id='9'></a>"
   ]
  },
  {
   "cell_type": "markdown",
   "id": "atmospheric-homework",
   "metadata": {},
   "source": [
    "## 2e. How to load the saved schema?"
   ]
  },
  {
   "cell_type": "code",
   "execution_count": 124,
   "id": "cleared-detroit",
   "metadata": {},
   "outputs": [
    {
     "name": "stdout",
     "output_type": "stream",
     "text": [
      "StructType(List(StructField(name,StringType,true),StructField(weight,LongType,true),StructField(smoker,BooleanType,true),StructField(height,DoubleType,true),StructField(birthdate,StringType,true),StructField(phone_nos,MapType(StringType,LongType,true),true),StructField(favorite_colors,ArrayType(StringType,true),true),StructField(address,StructType(List(StructField(houseno,IntegerType,true),StructField(street,StringType,true),StructField(city,StringType,true),StructField(zipcode,IntegerType,true))),true)))\n"
     ]
    }
   ],
   "source": [
    "schema_rdd = spark.sparkContext.pickleFile(\"data/text/schema_file\")\n",
    "schema = StructType(schema_rdd.collect())\n",
    "print(schema)    "
   ]
  },
  {
   "cell_type": "markdown",
   "id": "considered-livestock",
   "metadata": {},
   "source": [
    "<a id='10'></a>"
   ]
  },
  {
   "cell_type": "markdown",
   "id": "engaged-technology",
   "metadata": {},
   "source": [
    "## 2f. How to get the names of all fields in the schema?"
   ]
  },
  {
   "cell_type": "code",
   "execution_count": 125,
   "id": "amateur-cylinder",
   "metadata": {},
   "outputs": [
    {
     "name": "stdout",
     "output_type": "stream",
     "text": [
      "+----+---------+---+------+------+----------+\n",
      "|name|     city|age|smoker|height| birthdate|\n",
      "+----+---------+---+------+------+----------+\n",
      "|John|  Seattle| 60|  true|   1.7|1960-01-01|\n",
      "|Tony|Cupertino| 30| false|   1.8|1990-01-01|\n",
      "|Mike| New York| 40|  true|  1.65|1980-01-01|\n",
      "+----+---------+---+------+------+----------+\n",
      "\n"
     ]
    }
   ],
   "source": [
    "df_mul = spark.createDataFrame([('John', 'Seattle', 60, True, 1.7, '1960-01-01'), \n",
    "('Tony', 'Cupertino', 30, False, 1.8, '1990-01-01'), \n",
    "('Mike', 'New York', 40, True, 1.65, '1980-01-01')],['name', 'city', 'age', 'smoker','height', 'birthdate'])\n",
    "df_mul.show()"
   ]
  },
  {
   "cell_type": "code",
   "execution_count": 126,
   "id": "intense-surprise",
   "metadata": {},
   "outputs": [
    {
     "data": {
      "text/plain": [
       "['name', 'city', 'age', 'smoker', 'height', 'birthdate']"
      ]
     },
     "execution_count": 126,
     "metadata": {},
     "output_type": "execute_result"
    }
   ],
   "source": [
    "df_mul.schema.fieldNames()"
   ]
  },
  {
   "cell_type": "markdown",
   "id": "inclusive-overview",
   "metadata": {},
   "source": [
    "<b> Summary:</b>"
   ]
  },
  {
   "cell_type": "code",
   "execution_count": 127,
   "id": "tough-dakota",
   "metadata": {},
   "outputs": [
    {
     "name": "stdout",
     "output_type": "stream",
     "text": [
      "input                                     output\n"
     ]
    },
    {
     "data": {
      "text/html": [
       "<table style=\"display:inline\" border=\"1\" class=\"dataframe\">\n",
       "  <thead>\n",
       "    <tr style=\"text-align: right;\">\n",
       "      <th>name</th>\n",
       "      <th>city</th>\n",
       "      <th>age</th>\n",
       "      <th>smoker</th>\n",
       "      <th>height</th>\n",
       "      <th>birthdate</th>\n",
       "    </tr>\n",
       "  </thead>\n",
       "  <tbody>\n",
       "    <tr>\n",
       "      <td>John</td>\n",
       "      <td>Seattle</td>\n",
       "      <td>60</td>\n",
       "      <td>True</td>\n",
       "      <td>1.70</td>\n",
       "      <td>1960-01-01</td>\n",
       "    </tr>\n",
       "    <tr>\n",
       "      <td>Tony</td>\n",
       "      <td>Cupertino</td>\n",
       "      <td>30</td>\n",
       "      <td>False</td>\n",
       "      <td>1.80</td>\n",
       "      <td>1990-01-01</td>\n",
       "    </tr>\n",
       "    <tr>\n",
       "      <td>Mike</td>\n",
       "      <td>New York</td>\n",
       "      <td>40</td>\n",
       "      <td>True</td>\n",
       "      <td>1.65</td>\n",
       "      <td>1980-01-01</td>\n",
       "    </tr>\n",
       "  </tbody>\n",
       "</table style=\"display:inline\">      <table style=\"display:inline\" border=\"1\" class=\"dataframe\">\n",
       "  <thead>\n",
       "    <tr style=\"text-align: right;\">\n",
       "      <th>.</th>\n",
       "    </tr>\n",
       "  </thead>\n",
       "  <tbody>\n",
       "    <tr>\n",
       "      <td>[name, city, age, smoker, height, birthdate]</td>\n",
       "    </tr>\n",
       "  </tbody>\n",
       "</table style=\"display:inline\">      "
      ]
     },
     "metadata": {},
     "output_type": "display_data"
    }
   ],
   "source": [
    "print(\"input                                    \",            \"output\")\n",
    "display_side_by_side(df_mul.toPandas(),pd.DataFrame([[df_mul.schema.fieldNames()]],columns=[\".\"]),space=2)"
   ]
  },
  {
   "cell_type": "markdown",
   "id": "cloudy-bristol",
   "metadata": {},
   "source": [
    "<style> \n",
    "table td, table th, table tr {text-align:left !important;}\n",
    "</style>"
   ]
  },
  {
   "cell_type": "markdown",
   "id": "divine-guard",
   "metadata": {},
   "source": [
    "<a id='6'></a>"
   ]
  }
 ],
 "metadata": {
  "celltoolbar": "Tags",
  "kernelspec": {
   "display_name": "Python 3",
   "language": "python",
   "name": "python3"
  },
  "language_info": {
   "codemirror_mode": {
    "name": "ipython",
    "version": 3
   },
   "file_extension": ".py",
   "mimetype": "text/x-python",
   "name": "python",
   "nbconvert_exporter": "python",
   "pygments_lexer": "ipython3",
   "version": "3.8.5"
  }
 },
 "nbformat": 4,
 "nbformat_minor": 5
}
