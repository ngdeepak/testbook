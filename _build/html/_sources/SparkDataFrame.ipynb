{
 "cells": [
  {
   "cell_type": "markdown",
   "id": "pleased-consumption",
   "metadata": {},
   "source": [
    "# Spark Data Frame\n",
    "\n",
    "### What is a Spark Data frame?\n",
    "\n",
    "Spark Data Frame is a distributed collection of data organized into named columns. It can be constructed from a wide array of sources such as: structured data files, tables in Hive, external databases, or existing RDD, Lists, Pandas data frame, json files, CSV files, parquet files etc\n",
    "\n",
    "```{figure} /images/dataframe.png\n",
    "---\n",
    "width: 400px\n",
    "height: 250px\n",
    "align: center\n",
    "---\n",
    "Spark DataFrame\n",
    "```"
   ]
  },
  {
   "cell_type": "markdown",
   "id": "opening-ridge",
   "metadata": {},
   "source": [
    "# Creating a Spark DataFrame\n",
    "   ## from list\n",
    "   ## from dict\n",
    "\n",
    "\n",
    "# Creating a Spark DataFrame123\n"
   ]
  },
  {
   "cell_type": "code",
   "execution_count": 19,
   "id": "resident-spokesman",
   "metadata": {},
   "outputs": [
    {
     "name": "stdout",
     "output_type": "stream",
     "text": [
      "+----+----+\n",
      "|col1|col2|\n",
      "+----+----+\n",
      "|   1|   2|\n",
      "|   5|   6|\n",
      "+----+----+\n",
      "\n"
     ]
    }
   ],
   "source": [
    "# from pyspark.sql import SparkSession\n",
    "# spark = SparkSession.builder.appName(\"SimpleApp\").getOrCreate()\n",
    "# df = spark.createDataFrame([(1,2),(5,6)],[\"col1\",\"col2\"])\n",
    "# df.show()"
   ]
  },
  {
   "cell_type": "code",
   "execution_count": 20,
   "id": "complex-korean",
   "metadata": {},
   "outputs": [],
   "source": [
    "# df2 = spark.createDataFrame([(1,2),(7,6)],[\"col1\",\"col2\"])"
   ]
  },
  {
   "cell_type": "code",
   "execution_count": 39,
   "id": "super-movement",
   "metadata": {},
   "outputs": [
    {
     "name": "stdout",
     "output_type": "stream",
     "text": [
      "input                      output\n"
     ]
    },
    {
     "data": {
      "text/html": [
       "<table style=\"display:inline\" border=\"1\" class=\"dataframe\">\n",
       "  <thead>\n",
       "    <tr style=\"text-align: right;\">\n",
       "      <th>A</th>\n",
       "      <th>B</th>\n",
       "      <th>C</th>\n",
       "      <th>D</th>\n",
       "    </tr>\n",
       "  </thead>\n",
       "  <tbody>\n",
       "    <tr>\n",
       "      <td>0</td>\n",
       "      <td>1</td>\n",
       "      <td>2</td>\n",
       "      <td>3</td>\n",
       "    </tr>\n",
       "    <tr>\n",
       "      <td>4</td>\n",
       "      <td>5</td>\n",
       "      <td>6</td>\n",
       "      <td>7</td>\n",
       "    </tr>\n",
       "    <tr>\n",
       "      <td>8</td>\n",
       "      <td>9</td>\n",
       "      <td>10</td>\n",
       "      <td>11</td>\n",
       "    </tr>\n",
       "  </tbody>\n",
       "</table style=\"display:inline\">                              <table style=\"display:inline\" border=\"1\" class=\"dataframe\">\n",
       "  <thead>\n",
       "    <tr style=\"text-align: right;\">\n",
       "      <th>A</th>\n",
       "      <th>B</th>\n",
       "      <th>C</th>\n",
       "      <th>D</th>\n",
       "    </tr>\n",
       "  </thead>\n",
       "  <tbody>\n",
       "    <tr>\n",
       "      <td>0</td>\n",
       "      <td>1</td>\n",
       "      <td>2</td>\n",
       "      <td>3</td>\n",
       "    </tr>\n",
       "    <tr>\n",
       "      <td>4</td>\n",
       "      <td>5</td>\n",
       "      <td>6</td>\n",
       "      <td>7</td>\n",
       "    </tr>\n",
       "    <tr>\n",
       "      <td>8</td>\n",
       "      <td>9</td>\n",
       "      <td>10</td>\n",
       "      <td>11</td>\n",
       "    </tr>\n",
       "    <tr>\n",
       "      <td>12</td>\n",
       "      <td>13</td>\n",
       "      <td>14</td>\n",
       "      <td>15</td>\n",
       "    </tr>\n",
       "  </tbody>\n",
       "</table style=\"display:inline\">                              "
      ]
     },
     "metadata": {},
     "output_type": "display_data"
    }
   ],
   "source": [
    "# from IPython.display import display_html\n",
    "# import pandas as pd \n",
    "# import numpy as np\n",
    "# def display_side_by_side(*args):\n",
    "#     html_str=''\n",
    "#     for df in args:\n",
    "#         html_str+=df.to_html(index=False)\n",
    "#         html_str+= \"\\xa0\\xa0\\xa0\"*10\n",
    "#     display_html(html_str.replace('table','table style=\"display:inline\"'),raw=True)\n",
    "# space = \"\\xa0\" * 10\n",
    "# df1 = pd.DataFrame(np.arange(12).reshape((3,4)),columns=['A','B','C','D',])\n",
    "# df2 = pd.DataFrame(np.arange(16).reshape((4,4)),columns=['A','B','C','D',])\n",
    "# print(\"input                     \",            \"output\")\n",
    "# display_side_by_side(df1,df2)"
   ]
  },
  {
   "cell_type": "code",
   "execution_count": 13,
   "id": "relevant-newsletter",
   "metadata": {},
   "outputs": [
    {
     "name": "stdout",
     "output_type": "stream",
     "text": [
      "+----+----+\n",
      "|col1|col2|\n",
      "+----+----+\n",
      "|   1|   2|\n",
      "|   5|   6|\n",
      "+----+----+\n",
      "\n"
     ]
    },
    {
     "data": {
      "text/plain": [
       "None"
      ]
     },
     "metadata": {},
     "output_type": "display_data"
    },
    {
     "name": "stdout",
     "output_type": "stream",
     "text": [
      "+----+----+\n",
      "|col1|col2|\n",
      "+----+----+\n",
      "|   1|   2|\n",
      "|   7|   6|\n",
      "+----+----+\n",
      "\n"
     ]
    },
    {
     "data": {
      "text/plain": [
       "None"
      ]
     },
     "metadata": {},
     "output_type": "display_data"
    }
   ],
   "source": [
    "# display(df.show())\n",
    "# display(df2.show())"
   ]
  },
  {
   "cell_type": "code",
   "execution_count": null,
   "id": "composite-exclusion",
   "metadata": {},
   "outputs": [],
   "source": []
  }
 ],
 "metadata": {
  "kernelspec": {
   "display_name": "Python 3",
   "language": "python",
   "name": "python3"
  },
  "language_info": {
   "codemirror_mode": {
    "name": "ipython",
    "version": 3
   },
   "file_extension": ".py",
   "mimetype": "text/x-python",
   "name": "python",
   "nbconvert_exporter": "python",
   "pygments_lexer": "ipython3",
   "version": "3.8.5"
  }
 },
 "nbformat": 4,
 "nbformat_minor": 5
}
