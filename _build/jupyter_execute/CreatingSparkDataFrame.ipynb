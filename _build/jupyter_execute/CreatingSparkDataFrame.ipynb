{
 "cells": [
  {
   "cell_type": "markdown",
   "id": "meaningful-translator",
   "metadata": {},
   "source": [
    "# Creating Spark Data Frame\n",
    "```{figure} /images/dataframe.png\n",
    "---\n",
    "width: 700px\n",
    "height: 400px\n",
    "align: center\n",
    "---\n",
    "Here is my figure caption!\n",
    "```"
   ]
  },
  {
   "cell_type": "code",
   "execution_count": null,
   "id": "encouraging-understanding",
   "metadata": {},
   "outputs": [],
   "source": []
  }
 ],
 "metadata": {
  "kernelspec": {
   "display_name": "Python 3",
   "language": "python",
   "name": "python3"
  },
  "language_info": {
   "codemirror_mode": {
    "name": "ipython",
    "version": 3
   },
   "file_extension": ".py",
   "mimetype": "text/x-python",
   "name": "python",
   "nbconvert_exporter": "python",
   "pygments_lexer": "ipython3",
   "version": "3.8.5"
  }
 },
 "nbformat": 4,
 "nbformat_minor": 5
}